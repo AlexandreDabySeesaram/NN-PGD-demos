{
 "cells": [
  {
   "cell_type": "markdown",
   "metadata": {},
   "source": [
    "# 2D case - Figure 15\n",
    "Two-parameter 2D problem - Investigation of  the  convergence  of  the  reduced-order model and of the evolution of the size of the reduced-order basis."
   ]
  },
  {
   "cell_type": "markdown",
   "metadata": {},
   "source": [
    "## Libraries import  "
   ]
  },
  {
   "cell_type": "code",
   "execution_count": 1,
   "metadata": {},
   "outputs": [
    {
     "name": "stdout",
     "output_type": "stream",
     "text": [
      "* WARNING: could not load tikzplotlib\n"
     ]
    },
    {
     "data": {
      "text/plain": [
       "<torch._C.Generator at 0x10843d610>"
      ]
     },
     "execution_count": 1,
     "metadata": {},
     "output_type": "execute_result"
    }
   ],
   "source": [
    "\n",
    "import sys  \n",
    "import torch\n",
    "import torch.nn as nn\n",
    "from neurom.HiDeNN_PDE import MeshNN, NeuROM, MeshNN_2D, MeshNN_1D\n",
    "import neurom.src.Pre_processing as pre\n",
    "from neurom.src.PDE_Library import Strain, Stress,VonMises_plain_strain\n",
    "from neurom.src.Training import Training_NeuROM_multi_level\n",
    "import neurom.Post.Plots as Pplot\n",
    "import time\n",
    "import os\n",
    "import torch._dynamo as dynamo\n",
    "from importlib import reload  \n",
    "import tomllib\n",
    "import numpy as np\n",
    "import argparse\n",
    "\n",
    "torch.manual_seed(0)"
   ]
  },
  {
   "cell_type": "markdown",
   "metadata": {},
   "source": [
    "## Load the config file"
   ]
  },
  {
   "cell_type": "code",
   "execution_count": 2,
   "metadata": {},
   "outputs": [],
   "source": [
    "    Configuration_file = 'Configurations/config_2D_ROM.toml'\n",
    "\n",
    "    with open(Configuration_file, mode=\"rb\") as file:\n",
    "        config = tomllib.load(file)"
   ]
  },
  {
   "cell_type": "markdown",
   "metadata": {},
   "source": [
    "## Definition of the space domain and mechanical proprieties of the structure\n",
    "\n",
    "The initial Material parameters, the geometry, mesh and the boundary conditions are set. "
   ]
  },
  {
   "cell_type": "code",
   "execution_count": 3,
   "metadata": {},
   "outputs": [
    {
     "name": "stdout",
     "output_type": "stream",
     "text": [
      " \n",
      " \n",
      "   _   _            ____   ___  __  __ \n",
      "  | \\ | | ___ _   _|  _ \\ / _ \\|  \\/  |\n",
      "  |  \\| |/ _ \\ | | | |_) | | | | |\\/| |\n",
      "  | |\\  |  __/ |_| |  _ <| |_| | |  | |\n",
      "  |_| \\_|\\___|\\__,_|_| \\_\\ ___/|_|  |_|\n",
      "\n",
      "                  unknown version\n",
      "\n",
      "************ MESH READING COMPLETE ************\n",
      "\n",
      " * Dimension of the problem: 2D\n",
      " * Elements type:            t3: 3-node triangle\n",
      " * Number of Dofs:           224\n",
      "\n"
     ]
    },
    {
     "name": "stderr",
     "output_type": "stream",
     "text": [
      "fatal: No names found, cannot describe anything.\n"
     ]
    }
   ],
   "source": [
    "\n",
    "# Material parameters definition\n",
    "\n",
    "Mat = pre.Material(             flag_lame = False,                                  # If True should input lmbda and mu instead of E and nu\n",
    "                                coef1     = config[\"material\"][\"E\"],                # Young Modulus\n",
    "                                coef2     = config[\"material\"][\"nu\"]                # Poisson's ratio\n",
    "                )\n",
    "\n",
    "\n",
    "# Create mesh object\n",
    "MaxElemSize = pre.ElementSize(\n",
    "                                dimension     = config[\"interpolation\"][\"dimension\"],\n",
    "                                L             = config[\"geometry\"][\"L\"],\n",
    "                                order         = config[\"interpolation\"][\"order\"],\n",
    "                                np            = config[\"interpolation\"][\"np\"],\n",
    "                                MaxElemSize2D = config[\"interpolation\"][\"MaxElemSize2D\"]\n",
    "                            )\n",
    "Excluded = []\n",
    "Mesh_object = pre.Mesh( \n",
    "                                config[\"geometry\"][\"Name\"],                         # Create the mesh object\n",
    "                                MaxElemSize, \n",
    "                                config[\"interpolation\"][\"order\"], \n",
    "                                config[\"interpolation\"][\"dimension\"]\n",
    "                        )\n",
    "\n",
    "Mesh_object.AddBorders(config[\"Borders\"][\"Borders\"])\n",
    "Mesh_object.AddBCs(                                                                 # Include Boundary physical domains infos (BCs+volume)\n",
    "                                config[\"geometry\"][\"Volume_element\"],\n",
    "                                Excluded,\n",
    "                                config[\"DirichletDictionryList\"]\n",
    "                    )                   \n",
    "\n",
    "Mesh_object.MeshGeo()                                                               # Mesh the .geo file if .msh does not exist\n",
    "Mesh_object.ReadMesh()       \n",
    "Mesh_object.ExportMeshVtk()"
   ]
  },
  {
   "cell_type": "markdown",
   "metadata": {},
   "source": [
    "## Parametric study definition\n",
    "\n",
    "The hypercube describing the parametric domain used for the tensor decomposition is set-up here"
   ]
  },
  {
   "cell_type": "code",
   "execution_count": 4,
   "metadata": {},
   "outputs": [],
   "source": [
    "ParameterHypercube = torch.tensor([ [   config[\"parameters\"][\"para_1_min\"],\n",
    "                                        config[\"parameters\"][\"para_1_max\"],\n",
    "                                        config[\"parameters\"][\"N_para_1\"]],\n",
    "                                    [   config[\"parameters\"][\"para_2_min\"],\n",
    "                                        config[\"parameters\"][\"para_2_max\"],\n",
    "                                        config[\"parameters\"][\"N_para_2\"]]])"
   ]
  },
  {
   "cell_type": "markdown",
   "metadata": {},
   "source": [
    "## Initialisation of the surrogate model"
   ]
  },
  {
   "cell_type": "code",
   "execution_count": 5,
   "metadata": {},
   "outputs": [],
   "source": [
    "ROM_model = NeuROM(                                                                 # Build the surrogate (reduced-order) model\n",
    "                    Mesh_object, \n",
    "                    ParameterHypercube, \n",
    "                    config,\n",
    "                    config[\"solver\"][\"n_modes_ini\"],\n",
    "                    config[\"solver\"][\"n_modes_max\"]\n",
    "                    )"
   ]
  },
  {
   "cell_type": "markdown",
   "metadata": {},
   "source": [
    "## Training the model"
   ]
  },
  {
   "cell_type": "code",
   "execution_count": 6,
   "metadata": {},
   "outputs": [
    {
     "name": "stdout",
     "output_type": "stream",
     "text": [
      "* Refinement level: 0\n",
      "\n",
      "**************** START TRAINING ***************\n",
      "\n",
      "epoch 100 loss = -3.27861e-04 modes = 1\n",
      "epoch 200 loss = -1.25096e-03 modes = 1\n",
      "epoch 300 loss = -2.29776e-03 modes = 1\n",
      "epoch 400 loss = -3.44243e-03 modes = 1\n",
      "epoch 500 loss = -4.01850e-03 modes = 1\n",
      "epoch 600 loss = -4.17413e-03 modes = 1\n",
      "epoch 700 loss = -4.20585e-03 modes = 1\n",
      "epoch 800 loss = -4.23706e-03 modes = 2\n",
      "epoch 900 loss = -4.78608e-03 modes = 2\n",
      "epoch 1000 loss = -5.07869e-03 modes = 2\n",
      "epoch 1100 loss = -5.22825e-03 modes = 2\n",
      "epoch 1200 loss = -5.33641e-03 modes = 2\n",
      "epoch 1300 loss = -5.37339e-03 modes = 2\n",
      "*************** END FIRST PHASE ***************\n",
      "\n",
      "* Training time: 5.033659219741821s\n",
      "* Saving time: 1.9073486328125e-06s\n",
      "* Evaluation time: 2.802030563354492s\n",
      "* Backward time: 2.012726068496704s\n",
      "* Update time: 0.16192030906677246s\n",
      "* Average epoch time: 0.0037620771447995677s\n",
      "************** START SECOND PAHSE *************\n",
      "\n",
      "epoch 5 loss = -5.377e-03\n",
      "*************** END OF TRAINING ***************\n",
      "\n",
      "* Training time: 5.30248498916626s\n",
      "\n",
      "************ MESH READING COMPLETE ************\n",
      "\n",
      " * Dimension of the problem: 2D\n",
      " * Elements type:            t3: 3-node triangle\n",
      " * Number of Dofs:           434\n",
      "\n",
      "* Refinement level: 1\n",
      "\n",
      "**************** START TRAINING ***************\n",
      "\n",
      "epoch 100 loss = -5.71027e-03 modes = 2\n",
      "*************** END FIRST PHASE ***************\n",
      "\n",
      "* Training time: 6.118413686752319s\n",
      "* Saving time: 0s\n",
      "* Evaluation time: 0.4239180088043213s\n",
      "* Backward time: 0.3611030578613281s\n",
      "* Update time: 0.022246837615966797s\n",
      "* Average epoch time: 0.0059556839239858364s\n",
      "************** START SECOND PAHSE *************\n",
      "\n",
      "epoch 5 loss = -5.7137e-03\n",
      "*************** END OF TRAINING ***************\n",
      "\n",
      "* Training time: 6.461751699447632s\n",
      "\n",
      "************ MESH READING COMPLETE ************\n",
      "\n",
      " * Dimension of the problem: 2D\n",
      " * Elements type:            t3: 3-node triangle\n",
      " * Number of Dofs:           1194\n",
      "\n",
      "* Refinement level: 2\n",
      "\n",
      "**************** START TRAINING ***************\n",
      "\n",
      "*************** END FIRST PHASE ***************\n",
      "\n",
      "* Training time: 7.321514844894409s\n",
      "* Saving time: 0s\n",
      "* Evaluation time: 0.3905036449432373s\n",
      "* Backward time: 0.43823933601379395s\n",
      "* Update time: 0.022466659545898438s\n",
      "* Average epoch time: 0.009244765004804057s\n",
      "************** START SECOND PAHSE *************\n",
      "\n",
      "epoch 5 loss = -5.9394e-03\n",
      "*************** END OF TRAINING ***************\n",
      "\n",
      "* Training time: 7.481795787811279s\n",
      "\n",
      "************ MESH READING COMPLETE ************\n",
      "\n",
      " * Dimension of the problem: 2D\n",
      " * Elements type:            t3: 3-node triangle\n",
      " * Number of Dofs:           4038\n",
      "\n",
      "* Refinement level: 3\n",
      "\n",
      "**************** START TRAINING ***************\n",
      "\n",
      "*************** END FIRST PHASE ***************\n",
      "\n",
      "* Training time: 9.309913873672485s\n",
      "* Saving time: 0s\n",
      "* Evaluation time: 0.7139086723327637s\n",
      "* Backward time: 1.078232765197754s\n",
      "* Update time: 0.02600407600402832s\n",
      "* Average epoch time: 0.022851476073265077s\n",
      "************** START SECOND PAHSE *************\n",
      "\n",
      "epoch 5 loss = -6.0577e-03\n",
      "*************** END OF TRAINING ***************\n",
      "\n",
      "* Training time: 9.680776834487915s\n",
      "\n",
      "************ MESH READING COMPLETE ************\n",
      "\n",
      " * Dimension of the problem: 2D\n",
      " * Elements type:            t3: 3-node triangle\n",
      " * Number of Dofs:           14230\n",
      "\n",
      "* Refinement level: 4\n",
      "\n",
      "**************** START TRAINING ***************\n",
      "\n",
      "*************** END FIRST PHASE ***************\n",
      "\n",
      "* Training time: 14.815427780151367s\n",
      "* Saving time: 0s\n",
      "* Evaluation time: 1.672292947769165s\n",
      "* Backward time: 3.4192962646484375s\n",
      "* Update time: 0.032341718673706055s\n",
      "* Average epoch time: 0.06186326440558376s\n",
      "************** START SECOND PAHSE *************\n",
      "\n",
      "epoch 5 loss = -6.1054e-03\n",
      "epoch 10 loss = -6.1054e-03\n",
      "*************** END OF TRAINING ***************\n",
      "\n",
      "* Training time: 27.389472723007202s\n"
     ]
    }
   ],
   "source": [
    "ROM_model.Freeze_Mesh()                                                             # Set space mesh coordinates as untrainable\n",
    "ROM_model.Freeze_MeshPara()                                                         # Set parameters mesh coordinates as untrainable\n",
    "\n",
    "ROM_model.TrainingParameters(   \n",
    "                                loss_decrease_c = config[\"training\"][\"loss_decrease_c\"], \n",
    "                                Max_epochs = config[\"training\"][\"n_epochs\"], \n",
    "                                learning_rate = config[\"training\"][\"learning_rate\"]\n",
    "                            )\n",
    "\n",
    "ROM_model.train()                                                                   # Put the model in training mode\n",
    "ROM_model, Mesh_object = Training_NeuROM_multi_level(ROM_model,config, Mat)         \n"
   ]
  },
  {
   "cell_type": "markdown",
   "metadata": {},
   "source": [
    "## Plotting area\n",
    "\n",
    "Reproducing figure 15"
   ]
  },
  {
   "cell_type": "code",
   "execution_count": 7,
   "metadata": {},
   "outputs": [
    {
     "name": "stdout",
     "output_type": "stream",
     "text": [
      "\n",
      "************** Available commands *************\n",
      "\n",
      "* Take a screenshot : s\n",
      "\n",
      "* Reset the camera  : r\n",
      "\n"
     ]
    },
    {
     "data": {
      "application/vnd.jupyter.widget-view+json": {
       "model_id": "88dae18ba7fa42938878c766925f5396",
       "version_major": 2,
       "version_minor": 0
      },
      "text/plain": [
       "Widget(value='<iframe src=\"http://localhost:54363/index.html?ui=P_0x151f269f0_0&reconnect=auto\" class=\"pyvista…"
      ]
     },
     "metadata": {},
     "output_type": "display_data"
    }
   ],
   "source": [
    "tikz = False\n",
    "\n",
    "import matplotlib.pyplot as plt\n",
    "from matplotlib.ticker import MaxNLocator\n",
    "\n",
    "Pplot.Plot_2D_PyVista(ROM_model, \n",
    "                Mesh_object, \n",
    "                config, \n",
    "                E = config[\"postprocess\"][\"Default_E\"], \n",
    "                theta = config[\"postprocess\"][\"Default_theta\"], \n",
    "                scalar_field_name = config[\"postprocess\"][\"scalar_field_name\"], \n",
    "                scaling_factor = config[\"postprocess\"][\"scaling_factor\"], \n",
    "                Interactive_parameter = config[\"postprocess\"][\"Interactive_parameter\"],\n",
    "                Plot_mesh = config[\"postprocess\"][\"Plot_mesh\"],\n",
    "                color_map = config[\"postprocess\"][\"colormap\"])"
   ]
  }
 ],
 "metadata": {
  "kernelspec": {
   "display_name": "NeuROM",
   "language": "python",
   "name": "python3"
  },
  "language_info": {
   "codemirror_mode": {
    "name": "ipython",
    "version": 3
   },
   "file_extension": ".py",
   "mimetype": "text/x-python",
   "name": "python",
   "nbconvert_exporter": "python",
   "pygments_lexer": "ipython3",
   "version": "3.12.3"
  }
 },
 "nbformat": 4,
 "nbformat_minor": 2
}
