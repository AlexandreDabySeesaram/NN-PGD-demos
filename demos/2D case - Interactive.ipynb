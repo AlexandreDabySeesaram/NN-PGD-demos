{
 "cells": [
  {
   "cell_type": "markdown",
   "metadata": {},
   "source": [
    "# 2D case - Figure 15\n",
    "Two-parameter 2D problem - Investigation of  the  convergence  of  the  reduced-order model and of the evolution of the size of the reduced-order basis."
   ]
  },
  {
   "cell_type": "markdown",
   "metadata": {},
   "source": [
    "## Libraries import  "
   ]
  },
  {
   "cell_type": "code",
   "execution_count": 1,
   "metadata": {},
   "outputs": [
    {
     "name": "stdout",
     "output_type": "stream",
     "text": [
      "* WARNING: could not load tikzplotlib\n"
     ]
    },
    {
     "data": {
      "text/plain": [
       "<torch._C.Generator at 0x10cbde910>"
      ]
     },
     "execution_count": 1,
     "metadata": {},
     "output_type": "execute_result"
    }
   ],
   "source": [
    "\n",
    "import sys  \n",
    "import torch\n",
    "import torch.nn as nn\n",
    "from neurom.HiDeNN_PDE import MeshNN, NeuROM, MeshNN_2D, MeshNN_1D\n",
    "import neurom.src.Pre_processing as pre\n",
    "from neurom.src.PDE_Library import Strain, Stress,VonMises_plain_strain\n",
    "from neurom.src.Training import Training_NeuROM_multi_level\n",
    "import neurom.Post.Plots as Pplot\n",
    "import time\n",
    "import os\n",
    "import torch._dynamo as dynamo\n",
    "from importlib import reload  \n",
    "import tomllib\n",
    "import numpy as np\n",
    "import argparse\n",
    "\n",
    "torch.manual_seed(0)"
   ]
  },
  {
   "cell_type": "markdown",
   "metadata": {},
   "source": [
    "## Load the config file"
   ]
  },
  {
   "cell_type": "code",
   "execution_count": 2,
   "metadata": {},
   "outputs": [],
   "source": [
    "    Configuration_file = 'Configurations/config_2D_ROM.toml'\n",
    "\n",
    "    with open(Configuration_file, mode=\"rb\") as file:\n",
    "        config = tomllib.load(file)"
   ]
  },
  {
   "cell_type": "markdown",
   "metadata": {},
   "source": [
    "## Definition of the space domain and mechanical proprieties of the structure\n",
    "\n",
    "The initial Material parameters, the geometry, mesh and the boundary conditions are set. "
   ]
  },
  {
   "cell_type": "code",
   "execution_count": 3,
   "metadata": {},
   "outputs": [
    {
     "name": "stdout",
     "output_type": "stream",
     "text": [
      " \n",
      " \n",
      "   _   _            ____   ___  __  __ \n",
      "  | \\ | | ___ _   _|  _ \\ / _ \\|  \\/  |\n",
      "  |  \\| |/ _ \\ | | | |_) | | | | |\\/| |\n",
      "  | |\\  |  __/ |_| |  _ <| |_| | |  | |\n",
      "  |_| \\_|\\___|\\__,_|_| \\_\\ ___/|_|  |_|\n",
      "\n",
      "                  unknown version\n",
      "\n",
      "************ MESH READING COMPLETE ************\n",
      "\n",
      " * Dimension of the problem: 2D\n",
      " * Elements type:            t3: 3-node triangle\n",
      " * Number of Dofs:           224\n",
      "\n"
     ]
    },
    {
     "name": "stderr",
     "output_type": "stream",
     "text": [
      "fatal: No names found, cannot describe anything.\n"
     ]
    }
   ],
   "source": [
    "\n",
    "# Material parameters definition\n",
    "\n",
    "Mat = pre.Material(             flag_lame = False,                                  # If True should input lmbda and mu instead of E and nu\n",
    "                                coef1     = config[\"material\"][\"E\"],                # Young Modulus\n",
    "                                coef2     = config[\"material\"][\"nu\"]                # Poisson's ratio\n",
    "                )\n",
    "\n",
    "\n",
    "# Create mesh object\n",
    "MaxElemSize = pre.ElementSize(\n",
    "                                dimension     = config[\"interpolation\"][\"dimension\"],\n",
    "                                L             = config[\"geometry\"][\"L\"],\n",
    "                                order         = config[\"interpolation\"][\"order\"],\n",
    "                                np            = config[\"interpolation\"][\"np\"],\n",
    "                                MaxElemSize2D = config[\"interpolation\"][\"MaxElemSize2D\"]\n",
    "                            )\n",
    "Excluded = []\n",
    "Mesh_object = pre.Mesh( \n",
    "                                config[\"geometry\"][\"Name\"],                         # Create the mesh object\n",
    "                                MaxElemSize, \n",
    "                                config[\"interpolation\"][\"order\"], \n",
    "                                config[\"interpolation\"][\"dimension\"]\n",
    "                        )\n",
    "\n",
    "Mesh_object.AddBorders(config[\"Borders\"][\"Borders\"])\n",
    "Mesh_object.AddBCs(                                                                 # Include Boundary physical domains infos (BCs+volume)\n",
    "                                config[\"geometry\"][\"Volume_element\"],\n",
    "                                Excluded,\n",
    "                                config[\"DirichletDictionryList\"]\n",
    "                    )                   \n",
    "\n",
    "Mesh_object.MeshGeo()                                                               # Mesh the .geo file if .msh does not exist\n",
    "Mesh_object.ReadMesh()       \n",
    "Mesh_object.ExportMeshVtk()"
   ]
  },
  {
   "cell_type": "markdown",
   "metadata": {},
   "source": [
    "## Parametric study definition\n",
    "\n",
    "The hypercube describing the parametric domain used for the tensor decomposition is set-up here"
   ]
  },
  {
   "cell_type": "code",
   "execution_count": 4,
   "metadata": {},
   "outputs": [],
   "source": [
    "ParameterHypercube = torch.tensor([ [   config[\"parameters\"][\"para_1_min\"],\n",
    "                                        config[\"parameters\"][\"para_1_max\"],\n",
    "                                        config[\"parameters\"][\"N_para_1\"]],\n",
    "                                    [   config[\"parameters\"][\"para_2_min\"],\n",
    "                                        config[\"parameters\"][\"para_2_max\"],\n",
    "                                        config[\"parameters\"][\"N_para_2\"]]])"
   ]
  },
  {
   "cell_type": "markdown",
   "metadata": {},
   "source": [
    "## Initialisation of the surrogate model"
   ]
  },
  {
   "cell_type": "code",
   "execution_count": 5,
   "metadata": {},
   "outputs": [],
   "source": [
    "ROM_model = NeuROM(                                                                 # Build the surrogate (reduced-order) model\n",
    "                    Mesh_object, \n",
    "                    ParameterHypercube, \n",
    "                    config,\n",
    "                    config[\"solver\"][\"n_modes_ini\"],\n",
    "                    config[\"solver\"][\"n_modes_max\"]\n",
    "                    )"
   ]
  },
  {
   "cell_type": "markdown",
   "metadata": {},
   "source": [
    "## Training the model"
   ]
  },
  {
   "cell_type": "code",
   "execution_count": 6,
   "metadata": {},
   "outputs": [
    {
     "name": "stdout",
     "output_type": "stream",
     "text": [
      "* Refinement level: 0\n",
      "\n",
      "**************** START TRAINING ***************\n",
      "\n",
      "epoch 100 loss = -3.27861e-04 modes = 1\n",
      "epoch 200 loss = -1.25096e-03 modes = 1\n",
      "epoch 300 loss = -2.29776e-03 modes = 1\n",
      "epoch 400 loss = -3.44243e-03 modes = 1\n",
      "epoch 500 loss = -4.01850e-03 modes = 1\n",
      "epoch 600 loss = -4.17413e-03 modes = 1\n",
      "epoch 700 loss = -4.20585e-03 modes = 1\n",
      "epoch 800 loss = -4.23706e-03 modes = 2\n",
      "epoch 900 loss = -4.78608e-03 modes = 2\n",
      "epoch 1000 loss = -5.07869e-03 modes = 2\n",
      "epoch 1100 loss = -5.22825e-03 modes = 2\n",
      "epoch 1200 loss = -5.33641e-03 modes = 2\n",
      "epoch 1300 loss = -5.37339e-03 modes = 2\n",
      "*************** END FIRST PHASE ***************\n",
      "\n",
      "* Training time: 5.20855712890625s\n",
      "* Saving time: 4.5299530029296875e-06s\n",
      "* Evaluation time: 2.8841538429260254s\n",
      "* Backward time: 2.0997023582458496s\n",
      "* Update time: 0.1666703224182129s\n",
      "* Average epoch time: 0.0038927930709314277s\n",
      "************** START SECOND PAHSE *************\n",
      "\n",
      "epoch 5 loss = -5.377e-03\n",
      "*************** END OF TRAINING ***************\n",
      "\n",
      "* Training time: 5.488170146942139s\n",
      "\n",
      "************ MESH READING COMPLETE ************\n",
      "\n",
      " * Dimension of the problem: 2D\n",
      " * Elements type:            t3: 3-node triangle\n",
      " * Number of Dofs:           434\n",
      "\n",
      "* Refinement level: 1\n",
      "\n",
      "**************** START TRAINING ***************\n",
      "\n",
      "epoch 100 loss = -5.71027e-03 modes = 2\n",
      "*************** END FIRST PHASE ***************\n",
      "\n",
      "* Training time: 6.334302186965942s\n",
      "* Saving time: 0s\n",
      "* Evaluation time: 0.43970489501953125s\n",
      "* Backward time: 0.37346649169921875s\n",
      "* Update time: 0.024051189422607422s\n",
      "* Average epoch time: 0.006176146277546013s\n",
      "************** START SECOND PAHSE *************\n",
      "\n",
      "epoch 5 loss = -5.7137e-03\n",
      "*************** END OF TRAINING ***************\n",
      "\n",
      "* Training time: 6.693411350250244s\n",
      "\n",
      "************ MESH READING COMPLETE ************\n",
      "\n",
      " * Dimension of the problem: 2D\n",
      " * Elements type:            t3: 3-node triangle\n",
      " * Number of Dofs:           1194\n",
      "\n",
      "* Refinement level: 2\n",
      "\n",
      "**************** START TRAINING ***************\n",
      "\n",
      "*************** END FIRST PHASE ***************\n",
      "\n",
      "* Training time: 7.584222316741943s\n",
      "* Saving time: 0s\n",
      "* Evaluation time: 0.4018125534057617s\n",
      "* Backward time: 0.45649290084838867s\n",
      "* Update time: 0.023855209350585938s\n",
      "* Average epoch time: 0.009578612542921496s\n",
      "************** START SECOND PAHSE *************\n",
      "\n",
      "epoch 5 loss = -5.9394e-03\n",
      "*************** END OF TRAINING ***************\n",
      "\n",
      "* Training time: 7.753359317779541s\n",
      "\n",
      "************ MESH READING COMPLETE ************\n",
      "\n",
      " * Dimension of the problem: 2D\n",
      " * Elements type:            t3: 3-node triangle\n",
      " * Number of Dofs:           4038\n",
      "\n",
      "* Refinement level: 3\n",
      "\n",
      "**************** START TRAINING ***************\n",
      "\n",
      "*************** END FIRST PHASE ***************\n",
      "\n",
      "* Training time: 9.55331826210022s\n",
      "* Saving time: 0s\n",
      "* Evaluation time: 0.706920862197876s\n",
      "* Backward time: 1.0575165748596191s\n",
      "* Update time: 0.025481700897216797s\n",
      "* Average epoch time: 0.022499486804008484s\n",
      "************** START SECOND PAHSE *************\n",
      "\n",
      "epoch 5 loss = -6.0577e-03\n",
      "*************** END OF TRAINING ***************\n",
      "\n",
      "* Training time: 9.924135446548462s\n",
      "\n",
      "************ MESH READING COMPLETE ************\n",
      "\n",
      " * Dimension of the problem: 2D\n",
      " * Elements type:            t3: 3-node triangle\n",
      " * Number of Dofs:           14230\n",
      "\n",
      "* Refinement level: 4\n",
      "\n",
      "**************** START TRAINING ***************\n",
      "\n",
      "*************** END FIRST PHASE ***************\n",
      "\n",
      "* Training time: 15.122938394546509s\n",
      "* Saving time: 0s\n",
      "* Evaluation time: 1.6966259479522705s\n",
      "* Backward time: 3.458540916442871s\n",
      "* Update time: 0.03251218795776367s\n",
      "* Average epoch time: 0.06263618009636202s\n",
      "************** START SECOND PAHSE *************\n",
      "\n",
      "epoch 5 loss = -6.1054e-03\n",
      "epoch 10 loss = -6.1054e-03\n",
      "*************** END OF TRAINING ***************\n",
      "\n",
      "* Training time: 26.768450498580933s\n"
     ]
    }
   ],
   "source": [
    "ROM_model.Freeze_Mesh()                                                             # Set space mesh coordinates as untrainable\n",
    "ROM_model.Freeze_MeshPara()                                                         # Set parameters mesh coordinates as untrainable\n",
    "\n",
    "ROM_model.TrainingParameters(   \n",
    "                                loss_decrease_c = config[\"training\"][\"loss_decrease_c\"], \n",
    "                                Max_epochs = config[\"training\"][\"n_epochs\"], \n",
    "                                learning_rate = config[\"training\"][\"learning_rate\"]\n",
    "                            )\n",
    "\n",
    "ROM_model.train()                                                                   # Put the model in training mode\n",
    "ROM_model, Mesh_object = Training_NeuROM_multi_level(ROM_model,config, Mat)         \n"
   ]
  },
  {
   "cell_type": "markdown",
   "metadata": {},
   "source": [
    "## Plotting area\n",
    "\n",
    "Reproducing figure 15"
   ]
  },
  {
   "cell_type": "code",
   "execution_count": 7,
   "metadata": {},
   "outputs": [
    {
     "ename": "NameError",
     "evalue": "name 'Training_coordinates' is not defined",
     "output_type": "error",
     "traceback": [
      "\u001b[0;31m---------------------------------------------------------------------------\u001b[0m",
      "\u001b[0;31mNameError\u001b[0m                                 Traceback (most recent call last)",
      "Cell \u001b[0;32mIn[7], line 7\u001b[0m\n\u001b[1;32m      3\u001b[0m \u001b[38;5;28;01mimport\u001b[39;00m \u001b[38;5;21;01mmatplotlib\u001b[39;00m\u001b[38;5;21;01m.\u001b[39;00m\u001b[38;5;21;01mpyplot\u001b[39;00m \u001b[38;5;28;01mas\u001b[39;00m \u001b[38;5;21;01mplt\u001b[39;00m\n\u001b[1;32m      4\u001b[0m \u001b[38;5;28;01mfrom\u001b[39;00m \u001b[38;5;21;01mmatplotlib\u001b[39;00m\u001b[38;5;21;01m.\u001b[39;00m\u001b[38;5;21;01mticker\u001b[39;00m \u001b[38;5;28;01mimport\u001b[39;00m MaxNLocator\n\u001b[1;32m      6\u001b[0m Pplot\u001b[38;5;241m.\u001b[39mPlot_BiParametric_Young_Interactive(  ROM_model,\n\u001b[0;32m----> 7\u001b[0m                             \u001b[43mTraining_coordinates\u001b[49m,\n\u001b[1;32m      8\u001b[0m                             config[\u001b[38;5;124m\"\u001b[39m\u001b[38;5;124mgeometry\u001b[39m\u001b[38;5;124m\"\u001b[39m][\u001b[38;5;124m\"\u001b[39m\u001b[38;5;124mA\u001b[39m\u001b[38;5;124m\"\u001b[39m],\n\u001b[1;32m      9\u001b[0m                             AnalyticBiParametricSolution,\n\u001b[1;32m     10\u001b[0m                             \u001b[38;5;124m'\u001b[39m\u001b[38;5;124mname_model\u001b[39m\u001b[38;5;124m'\u001b[39m)\n",
      "\u001b[0;31mNameError\u001b[0m: name 'Training_coordinates' is not defined"
     ]
    }
   ],
   "source": [
    "tikz = False\n",
    "\n",
    "import matplotlib.pyplot as plt\n",
    "from matplotlib.ticker import MaxNLocator\n",
    "\n",
    "Pplot.Plot_2D_PyVista(ROM_model, \n",
    "                Mesh_object, \n",
    "                config, \n",
    "                E = config[\"postprocess\"][\"Default_E\"], \n",
    "                theta = config[\"postprocess\"][\"Default_theta\"], \n",
    "                scalar_field_name = config[\"postprocess\"][\"scalar_field_name\"], \n",
    "                scaling_factor = config[\"postprocess\"][\"scaling_factor\"], \n",
    "                Interactive_parameter = config[\"postprocess\"][\"Interactive_parameter\"],\n",
    "                Plot_mesh = config[\"postprocess\"][\"Plot_mesh\"],\n",
    "                color_map = config[\"postprocess\"][\"colormap\"])"
   ]
  }
 ],
 "metadata": {
  "kernelspec": {
   "display_name": "NeuROM",
   "language": "python",
   "name": "python3"
  },
  "language_info": {
   "codemirror_mode": {
    "name": "ipython",
    "version": 3
   },
   "file_extension": ".py",
   "mimetype": "text/x-python",
   "name": "python",
   "nbconvert_exporter": "python",
   "pygments_lexer": "ipython3",
   "version": "3.12.3"
  }
 },
 "nbformat": 4,
 "nbformat_minor": 2
}
