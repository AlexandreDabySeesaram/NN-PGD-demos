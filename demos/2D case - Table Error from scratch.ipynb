{
 "cells": [
  {
   "cell_type": "markdown",
   "metadata": {},
   "source": [
    "# 2D case - Error with training\n",
    "Two-parameter 2D problem - Relative error with regard to the FEM solution"
   ]
  },
  {
   "cell_type": "markdown",
   "metadata": {},
   "source": [
    "## Libraries import  "
   ]
  },
  {
   "cell_type": "code",
   "execution_count": 1,
   "metadata": {},
   "outputs": [
    {
     "name": "stdout",
     "output_type": "stream",
     "text": [
      "* WARNING: could not load tikzplotlib\n"
     ]
    },
    {
     "data": {
      "text/plain": [
       "<torch._C.Generator at 0x121b79610>"
      ]
     },
     "execution_count": 1,
     "metadata": {},
     "output_type": "execute_result"
    }
   ],
   "source": [
    "\n",
    "import sys  \n",
    "import torch\n",
    "import torch.nn as nn\n",
    "from neurom.HiDeNN_PDE import MeshNN, NeuROM, MeshNN_2D, MeshNN_1D\n",
    "import neurom.src.Pre_processing as pre\n",
    "from neurom.src.PDE_Library import Strain, Stress,VonMises_plain_strain\n",
    "from neurom.src.Training import Training_NeuROM_multi_level\n",
    "import neurom.Post.Plots as Pplot\n",
    "import time\n",
    "import os\n",
    "import torch._dynamo as dynamo\n",
    "from importlib import reload  \n",
    "import tomllib\n",
    "import numpy as np\n",
    "import argparse\n",
    "\n",
    "torch.manual_seed(0)"
   ]
  },
  {
   "cell_type": "markdown",
   "metadata": {},
   "source": [
    "## Load the config file"
   ]
  },
  {
   "cell_type": "code",
   "execution_count": 2,
   "metadata": {},
   "outputs": [],
   "source": [
    "    Configuration_file = 'Configurations/config_2D_ROM.toml'\n",
    "\n",
    "    with open(Configuration_file, mode=\"rb\") as file:\n",
    "        config = tomllib.load(file)"
   ]
  },
  {
   "cell_type": "markdown",
   "metadata": {},
   "source": [
    "## Definition of the space domain and mechanical proprieties of the structure\n",
    "\n",
    "The initial Material parameters, the geometry, mesh and the boundary conditions are set. "
   ]
  },
  {
   "cell_type": "code",
   "execution_count": 3,
   "metadata": {},
   "outputs": [
    {
     "name": "stdout",
     "output_type": "stream",
     "text": [
      " \n",
      " \n",
      "   _   _            ____   ___  __  __ \n",
      "  | \\ | | ___ _   _|  _ \\ / _ \\|  \\/  |\n",
      "  |  \\| |/ _ \\ | | | |_) | | | | |\\/| |\n",
      "  | |\\  |  __/ |_| |  _ <| |_| | |  | |\n",
      "  |_| \\_|\\___|\\__,_|_| \\_\\ ___/|_|  |_|\n",
      "\n",
      "                  3.1.2\n",
      "\n",
      "************ MESH READING COMPLETE ************\n",
      "\n",
      " * Dimension of the problem: 2D\n",
      " * Elements type:            t3: 3-node triangle\n",
      " * Number of Dofs:           224\n",
      "\n"
     ]
    }
   ],
   "source": [
    "\n",
    "# Material parameters definition\n",
    "\n",
    "Mat = pre.Material(             flag_lame = False,                                  # If True should input lmbda and mu instead of E and nu\n",
    "                                coef1     = config[\"material\"][\"E\"],                # Young Modulus\n",
    "                                coef2     = config[\"material\"][\"nu\"]                # Poisson's ratio\n",
    "                )\n",
    "\n",
    "\n",
    "# Create mesh object\n",
    "MaxElemSize = pre.ElementSize(\n",
    "                                dimension     = config[\"interpolation\"][\"dimension\"],\n",
    "                                L             = config[\"geometry\"][\"L\"],\n",
    "                                order         = config[\"interpolation\"][\"order\"],\n",
    "                                np            = config[\"interpolation\"][\"np\"],\n",
    "                                MaxElemSize2D = config[\"interpolation\"][\"MaxElemSize2D\"]\n",
    "                            )\n",
    "Excluded = []\n",
    "Mesh_object = pre.Mesh( \n",
    "                                config[\"geometry\"][\"Name\"],                         # Create the mesh object\n",
    "                                MaxElemSize, \n",
    "                                config[\"interpolation\"][\"order\"], \n",
    "                                config[\"interpolation\"][\"dimension\"]\n",
    "                        )\n",
    "\n",
    "Mesh_object.AddBorders(config[\"Borders\"][\"Borders\"])\n",
    "Mesh_object.AddBCs(                                                                 # Include Boundary physical domains infos (BCs+volume)\n",
    "                                config[\"geometry\"][\"Volume_element\"],\n",
    "                                Excluded,\n",
    "                                config[\"DirichletDictionryList\"]\n",
    "                    )                   \n",
    "\n",
    "Mesh_object.MeshGeo()                                                               # Mesh the .geo file if .msh does not exist\n",
    "Mesh_object.ReadMesh()       \n",
    "Mesh_object.ExportMeshVtk()"
   ]
  },
  {
   "cell_type": "markdown",
   "metadata": {},
   "source": [
    "## Parametric study definition\n",
    "\n",
    "The hypercube describing the parametric domain used for the tensor decomposition is set-up here"
   ]
  },
  {
   "cell_type": "code",
   "execution_count": 4,
   "metadata": {},
   "outputs": [],
   "source": [
    "ParameterHypercube = torch.tensor([ [   config[\"parameters\"][\"para_1_min\"],\n",
    "                                        config[\"parameters\"][\"para_1_max\"],\n",
    "                                        config[\"parameters\"][\"N_para_1\"]],\n",
    "                                    [   config[\"parameters\"][\"para_2_min\"],\n",
    "                                        config[\"parameters\"][\"para_2_max\"],\n",
    "                                        config[\"parameters\"][\"N_para_2\"]]])"
   ]
  },
  {
   "cell_type": "markdown",
   "metadata": {},
   "source": [
    "## Initialisation of the surrogate model"
   ]
  },
  {
   "cell_type": "code",
   "execution_count": 5,
   "metadata": {},
   "outputs": [],
   "source": [
    "ROM_model = NeuROM(                                                                 # Build the surrogate (reduced-order) model\n",
    "                    Mesh_object, \n",
    "                    ParameterHypercube, \n",
    "                    config,\n",
    "                    config[\"solver\"][\"n_modes_ini\"],\n",
    "                    config[\"solver\"][\"n_modes_max\"]\n",
    "                    )"
   ]
  },
  {
   "cell_type": "markdown",
   "metadata": {},
   "source": [
    "## Training the model"
   ]
  },
  {
   "cell_type": "code",
   "execution_count": 6,
   "metadata": {},
   "outputs": [
    {
     "name": "stdout",
     "output_type": "stream",
     "text": [
      "* Refinement level: 0\n",
      "\n",
      "**************** START TRAINING ***************\n",
      "\n",
      "epoch 100 loss = -3.27861e-04 modes = 1\n",
      "epoch 200 loss = -1.25096e-03 modes = 1\n",
      "epoch 300 loss = -2.29776e-03 modes = 1\n",
      "epoch 400 loss = -3.44243e-03 modes = 1\n",
      "epoch 500 loss = -4.01850e-03 modes = 1\n",
      "epoch 600 loss = -4.17413e-03 modes = 1\n",
      "epoch 700 loss = -4.20585e-03 modes = 1\n",
      "epoch 800 loss = -4.23706e-03 modes = 2\n",
      "epoch 900 loss = -4.78608e-03 modes = 2\n",
      "epoch 1000 loss = -5.07869e-03 modes = 2\n",
      "epoch 1100 loss = -5.22825e-03 modes = 2\n",
      "epoch 1200 loss = -5.33641e-03 modes = 2\n",
      "epoch 1300 loss = -5.37339e-03 modes = 2\n",
      "*************** END FIRST PHASE ***************\n",
      "\n",
      "* Training time: 5.431267738342285s\n",
      "* Saving time: 9.5367431640625e-07s\n",
      "* Evaluation time: 3.012418031692505s\n",
      "* Backward time: 2.1743879318237305s\n",
      "* Update time: 0.17991185188293457s\n",
      "* Average epoch time: 0.004059243451675848s\n",
      "************** START SECOND PAHSE *************\n",
      "\n",
      "epoch 5 loss = -5.377e-03\n",
      "*************** END OF TRAINING ***************\n",
      "\n",
      "* Training time: 5.705697536468506s\n",
      "\n",
      "************ MESH READING COMPLETE ************\n",
      "\n",
      " * Dimension of the problem: 2D\n",
      " * Elements type:            t3: 3-node triangle\n",
      " * Number of Dofs:           434\n",
      "\n",
      "* Refinement level: 1\n",
      "\n",
      "**************** START TRAINING ***************\n",
      "\n",
      "epoch 100 loss = -5.71027e-03 modes = 2\n",
      "*************** END FIRST PHASE ***************\n",
      "\n",
      "* Training time: 6.581541538238525s\n",
      "* Saving time: 0s\n",
      "* Evaluation time: 0.4488399028778076s\n",
      "* Backward time: 0.3921961784362793s\n",
      "* Update time: 0.024948835372924805s\n",
      "* Average epoch time: 0.00639302191073007s\n",
      "************** START SECOND PAHSE *************\n",
      "\n",
      "epoch 5 loss = -5.7137e-03\n",
      "*************** END OF TRAINING ***************\n",
      "\n",
      "* Training time: 7.060077428817749s\n",
      "\n",
      "************ MESH READING COMPLETE ************\n",
      "\n",
      " * Dimension of the problem: 2D\n",
      " * Elements type:            t3: 3-node triangle\n",
      " * Number of Dofs:           1194\n",
      "\n",
      "* Refinement level: 2\n",
      "\n",
      "**************** START TRAINING ***************\n",
      "\n",
      "*************** END FIRST PHASE ***************\n",
      "\n",
      "* Training time: 8.022748470306396s\n",
      "* Saving time: 0s\n",
      "* Evaluation time: 0.41770076751708984s\n",
      "* Backward time: 0.5108096599578857s\n",
      "* Update time: 0.024298906326293945s\n",
      "* Average epoch time: 0.010351301521383307s\n",
      "************** START SECOND PAHSE *************\n",
      "\n",
      "epoch 5 loss = -5.9394e-03\n",
      "*************** END OF TRAINING ***************\n",
      "\n",
      "* Training time: 8.191118478775024s\n",
      "\n",
      "************ MESH READING COMPLETE ************\n",
      "\n",
      " * Dimension of the problem: 2D\n",
      " * Elements type:            t3: 3-node triangle\n",
      " * Number of Dofs:           4038\n",
      "\n",
      "* Refinement level: 3\n",
      "\n",
      "**************** START TRAINING ***************\n",
      "\n",
      "*************** END FIRST PHASE ***************\n",
      "\n",
      "* Training time: 9.933900594711304s\n",
      "* Saving time: 0s\n",
      "* Evaluation time: 0.6759395599365234s\n",
      "* Backward time: 1.0334837436676025s\n",
      "* Update time: 0.02374434471130371s\n",
      "* Average epoch time: 0.021784776449203493s\n",
      "************** START SECOND PAHSE *************\n",
      "\n",
      "epoch 5 loss = -6.0577e-03\n",
      "*************** END OF TRAINING ***************\n",
      "\n",
      "* Training time: 10.363604545593262s\n",
      "\n",
      "************ MESH READING COMPLETE ************\n",
      "\n",
      " * Dimension of the problem: 2D\n",
      " * Elements type:            t3: 3-node triangle\n",
      " * Number of Dofs:           14230\n",
      "\n",
      "* Refinement level: 4\n",
      "\n",
      "**************** START TRAINING ***************\n",
      "\n",
      "*************** END FIRST PHASE ***************\n",
      "\n",
      "* Training time: 15.676304578781128s\n",
      "* Saving time: 0s\n",
      "* Evaluation time: 1.7313106060028076s\n",
      "* Backward time: 3.540135383605957s\n",
      "* Update time: 0.03053116798400879s\n",
      "* Average epoch time: 0.06400843413479357s\n",
      "************** START SECOND PAHSE *************\n",
      "\n",
      "epoch 5 loss = -6.1054e-03\n",
      "epoch 10 loss = -6.1054e-03\n",
      "*************** END OF TRAINING ***************\n",
      "\n",
      "* Training time: 26.914470672607422s\n"
     ]
    }
   ],
   "source": [
    "ROM_model.Freeze_Mesh()                                                             # Set space mesh coordinates as untrainable\n",
    "ROM_model.Freeze_MeshPara()                                                         # Set parameters mesh coordinates as untrainable\n",
    "\n",
    "ROM_model.TrainingParameters(   \n",
    "                                loss_decrease_c = config[\"training\"][\"loss_decrease_c\"], \n",
    "                                Max_epochs = config[\"training\"][\"n_epochs\"], \n",
    "                                learning_rate = config[\"training\"][\"learning_rate\"]\n",
    "                            )\n",
    "\n",
    "ROM_model.train()                                                                   # Put the model in training mode\n",
    "ROM_model, Mesh_object = Training_NeuROM_multi_level(ROM_model,config, Mat)         \n"
   ]
  },
  {
   "cell_type": "markdown",
   "metadata": {},
   "source": [
    "## Error computed at the nodes\n",
    "\n",
    "Compute the error of the displacement with regard to the reference solution. Error evaluated at the nodes"
   ]
  },
  {
   "cell_type": "code",
   "execution_count": 9,
   "metadata": {},
   "outputs": [],
   "source": [
    "eval_coord_file = \"GroundTruth/nodal_coordinates.npy\"\n",
    "\n",
    "E_vect = [0.0038, 0.0038, 0.00314, 0.00409, 0.00409, 0.00462, 0.00501, 0.00675]\n",
    "theta_vect = [1.57, 4.21, 0, 3.7, 3.13, 0.82, 2.26, 5.45]\n",
    "error_vect = []\n",
    "for i in range(len(E_vect)):\n",
    "\n",
    "    num_displ_file = \"GroundTruth/nodal_num_displacement_E=\"+str(E_vect[i])+\"_theta=\"+str(theta_vect[i])+\".npy\"\n",
    "\n",
    "\n",
    "    eval_coord =  torch.tensor(np.load(eval_coord_file), dtype=torch.float64, requires_grad=True)\n",
    "    num_displ = torch.tensor(np.load(num_displ_file))\n",
    "\n",
    "    theta = torch.tensor([theta_vect[i]],dtype=torch.float64)\n",
    "    theta = theta[:,None] \n",
    "\n",
    "    E = torch.tensor([E_vect[i]],dtype=torch.float64)\n",
    "    E = E[:,None] \n",
    "\n",
    "\n",
    "    Para_coord_list = nn.ParameterList((E,theta))\n",
    "    ROM_model.eval()                                                        # Put model in evaluation mode\n",
    "    u_sol = ROM_model(eval_coord,Para_coord_list)                           # Evaluate model\n",
    "\n",
    "    u_sol_x = u_sol[0,:,0,0]\n",
    "    u_sol_y = u_sol[1,:,0,0]\n",
    "\n",
    "    u_ref_x = num_displ[:,0]\n",
    "    u_ref_y = num_displ[:,1]\n",
    "\n",
    "    u_ref_tot = torch.hstack((u_ref_x,u_ref_y))\n",
    "    u_sol_tot = torch.hstack((u_sol_x,u_sol_y))\n",
    "\n",
    "    error_u_tot = (torch.linalg.vector_norm(u_sol_tot - u_ref_tot)/torch.linalg.vector_norm(u_ref_tot)).item()\n",
    "    error_vect.append(error_u_tot)"
   ]
  },
  {
   "cell_type": "code",
   "execution_count": 10,
   "metadata": {},
   "outputs": [
    {
     "data": {
      "text/plain": [
       "[0.0011179374774135927,\n",
       " 0.0008721099977561525,\n",
       " 0.0014990741132987406,\n",
       " 0.008614060035762679,\n",
       " 0.00931683192143615,\n",
       " 0.0027197109293198856,\n",
       " 0.005349891791602745,\n",
       " 0.0012339046413615078]"
      ]
     },
     "execution_count": 10,
     "metadata": {},
     "output_type": "execute_result"
    }
   ],
   "source": [
    "error_vect"
   ]
  }
 ],
 "metadata": {
  "kernelspec": {
   "display_name": "NeuROM",
   "language": "python",
   "name": "python3"
  },
  "language_info": {
   "codemirror_mode": {
    "name": "ipython",
    "version": 3
   },
   "file_extension": ".py",
   "mimetype": "text/x-python",
   "name": "python",
   "nbconvert_exporter": "python",
   "pygments_lexer": "ipython3",
   "version": "3.12.3"
  }
 },
 "nbformat": 4,
 "nbformat_minor": 2
}
