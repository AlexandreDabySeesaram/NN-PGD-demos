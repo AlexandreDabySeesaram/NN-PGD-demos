{
 "cells": [
  {
   "cell_type": "markdown",
   "metadata": {},
   "source": [
    "# 2D case - Interactive plot pretrained\n",
    "Two-parameter 2D problem - Interactive plot using pre trained model"
   ]
  },
  {
   "cell_type": "markdown",
   "metadata": {},
   "source": [
    "## Libraries import  "
   ]
  },
  {
   "cell_type": "code",
   "execution_count": 15,
   "metadata": {},
   "outputs": [
    {
     "data": {
      "text/plain": [
       "<torch._C.Generator at 0x122401650>"
      ]
     },
     "execution_count": 15,
     "metadata": {},
     "output_type": "execute_result"
    }
   ],
   "source": [
    "\n",
    "import sys  \n",
    "import torch\n",
    "import torch.nn as nn\n",
    "from neurom.HiDeNN_PDE import MeshNN, NeuROM, MeshNN_2D, MeshNN_1D\n",
    "import neurom.src.Pre_processing as pre\n",
    "from neurom.src.PDE_Library import Strain, Stress,VonMises_plain_strain\n",
    "from neurom.src.Training import Training_NeuROM_multi_level\n",
    "import neurom.Post.Plots as Pplot\n",
    "import time\n",
    "import os\n",
    "import torch._dynamo as dynamo\n",
    "from importlib import reload  \n",
    "import tomllib\n",
    "import numpy as np\n",
    "import argparse\n",
    "\n",
    "torch.manual_seed(0)"
   ]
  },
  {
   "cell_type": "markdown",
   "metadata": {},
   "source": [
    "## Load the config file"
   ]
  },
  {
   "cell_type": "code",
   "execution_count": 16,
   "metadata": {},
   "outputs": [],
   "source": [
    "    Configuration_file = 'Configurations/config_2D_ROM.toml'\n",
    "\n",
    "    with open(Configuration_file, mode=\"rb\") as file:\n",
    "        config = tomllib.load(file)"
   ]
  },
  {
   "cell_type": "markdown",
   "metadata": {},
   "source": [
    "## Definition of the space domain and mechanical proprieties of the structure\n",
    "\n",
    "The initial Material parameters, the geometry, mesh and the boundary conditions are set. "
   ]
  },
  {
   "cell_type": "code",
   "execution_count": 17,
   "metadata": {},
   "outputs": [
    {
     "name": "stdout",
     "output_type": "stream",
     "text": [
      " \n",
      " \n",
      "   _   _            ____   ___  __  __ \n",
      "  | \\ | | ___ _   _|  _ \\ / _ \\|  \\/  |\n",
      "  |  \\| |/ _ \\ | | | |_) | | | | |\\/| |\n",
      "  | |\\  |  __/ |_| |  _ <| |_| | |  | |\n",
      "  |_| \\_|\\___|\\__,_|_| \\_\\ ___/|_|  |_|\n",
      "\n",
      "                  3.1.2\n",
      "\n",
      "************ MESH READING COMPLETE ************\n",
      "\n",
      " * Dimension of the problem: 2D\n",
      " * Elements type:            t3: 3-node triangle\n",
      " * Number of Dofs:           14230\n",
      "\n"
     ]
    }
   ],
   "source": [
    "\n",
    "# Material parameters definition\n",
    "\n",
    "Mat = pre.Material(             flag_lame = False,                                  # If True should input lmbda and mu instead of E and nu\n",
    "                                coef1     = config[\"material\"][\"E\"],                # Young Modulus\n",
    "                                coef2     = config[\"material\"][\"nu\"]                # Poisson's ratio\n",
    "                )\n",
    "\n",
    "MaxElemSize2D = config[\"interpolation\"][\"MaxElemSize2D\"] = 0.125\n",
    "# Create mesh object\n",
    "MaxElemSize = pre.ElementSize(\n",
    "                                dimension     = config[\"interpolation\"][\"dimension\"],\n",
    "                                L             = config[\"geometry\"][\"L\"],\n",
    "                                order         = config[\"interpolation\"][\"order\"],\n",
    "                                np            = config[\"interpolation\"][\"np\"],\n",
    "                                MaxElemSize2D = config[\"interpolation\"][\"MaxElemSize2D\"]\n",
    "                            )\n",
    "Excluded = []\n",
    "Mesh_object = pre.Mesh( \n",
    "                                config[\"geometry\"][\"Name\"],                         # Create the mesh object\n",
    "                                MaxElemSize, \n",
    "                                config[\"interpolation\"][\"order\"], \n",
    "                                config[\"interpolation\"][\"dimension\"]\n",
    "                        )\n",
    "\n",
    "Mesh_object.AddBorders(config[\"Borders\"][\"Borders\"])\n",
    "Mesh_object.AddBCs(                                                                 # Include Boundary physical domains infos (BCs+volume)\n",
    "                                config[\"geometry\"][\"Volume_element\"],\n",
    "                                Excluded,\n",
    "                                config[\"DirichletDictionryList\"]\n",
    "                    )                   \n",
    "\n",
    "Mesh_object.MeshGeo()                                                               # Mesh the .geo file if .msh does not exist\n",
    "Mesh_object.ReadMesh()       \n",
    "Mesh_object.ExportMeshVtk()"
   ]
  },
  {
   "cell_type": "markdown",
   "metadata": {},
   "source": [
    "## Parametric study definition\n",
    "\n",
    "The hypercube describing the parametric domain used for the tensor decomposition is set-up here"
   ]
  },
  {
   "cell_type": "code",
   "execution_count": 18,
   "metadata": {},
   "outputs": [],
   "source": [
    "ParameterHypercube = torch.tensor([ [   config[\"parameters\"][\"para_1_min\"],\n",
    "                                        config[\"parameters\"][\"para_1_max\"],\n",
    "                                        config[\"parameters\"][\"N_para_1\"]],\n",
    "                                    [   config[\"parameters\"][\"para_2_min\"],\n",
    "                                        config[\"parameters\"][\"para_2_max\"],\n",
    "                                        config[\"parameters\"][\"N_para_2\"]]])"
   ]
  },
  {
   "cell_type": "markdown",
   "metadata": {},
   "source": [
    "## Initialisation of the surrogate model"
   ]
  },
  {
   "cell_type": "code",
   "execution_count": 19,
   "metadata": {},
   "outputs": [],
   "source": [
    "ROM_model = NeuROM(                                                                 # Build the surrogate (reduced-order) model\n",
    "                    Mesh_object, \n",
    "                    ParameterHypercube, \n",
    "                    config,\n",
    "                    config[\"solver\"][\"n_modes_ini\"],\n",
    "                    config[\"solver\"][\"n_modes_max\"]\n",
    "                    )"
   ]
  },
  {
   "cell_type": "markdown",
   "metadata": {},
   "source": [
    "## Training the model"
   ]
  },
  {
   "cell_type": "code",
   "execution_count": 20,
   "metadata": {},
   "outputs": [
    {
     "data": {
      "text/plain": [
       "<All keys matched successfully>"
      ]
     },
     "execution_count": 20,
     "metadata": {},
     "output_type": "execute_result"
    }
   ],
   "source": [
    "# ROM_model.Freeze_Mesh()                                                             # Set space mesh coordinates as untrainable\n",
    "# ROM_model.Freeze_MeshPara()                                                         # Set parameters mesh coordinates as untrainable\n",
    "\n",
    "# ROM_model.TrainingParameters(   \n",
    "#                                 loss_decrease_c = config[\"training\"][\"loss_decrease_c\"], \n",
    "#                                 Max_epochs = config[\"training\"][\"n_epochs\"], \n",
    "#                                 learning_rate = config[\"training\"][\"learning_rate\"]\n",
    "#                             )\n",
    "\n",
    "# ROM_model.train()                                                                   # Put the model in training mode\n",
    "# ROM_model, Mesh_object = Training_NeuROM_multi_level(ROM_model,config, Mat)         \n",
    "\n",
    "ROM_model.load_state_dict(torch.load('Pretrained_models/2D_ROM'))"
   ]
  },
  {
   "cell_type": "markdown",
   "metadata": {},
   "source": [
    "## Interactive plot\n",
    "Parametric solution with sliders"
   ]
  },
  {
   "cell_type": "code",
   "execution_count": 21,
   "metadata": {},
   "outputs": [
    {
     "name": "stdout",
     "output_type": "stream",
     "text": [
      "\n",
      "************** Available commands *************\n",
      "\n",
      "* Take a screenshot : s\n",
      "\n",
      "* Reset the camera  : r\n",
      "\n"
     ]
    },
    {
     "data": {
      "application/vnd.jupyter.widget-view+json": {
       "model_id": "a8726f1bc3cb44039770d62c0452e677",
       "version_major": 2,
       "version_minor": 0
      },
      "text/plain": [
       "Widget(value='<iframe src=\"http://localhost:60564/index.html?ui=P_0x31673b530_2&reconnect=auto\" class=\"pyvista…"
      ]
     },
     "metadata": {},
     "output_type": "display_data"
    }
   ],
   "source": [
    "tikz = False\n",
    "\n",
    "import matplotlib.pyplot as plt\n",
    "from matplotlib.ticker import MaxNLocator\n",
    "import pyvista as pv\n",
    "pv.start_xvfb()\n",
    "Pplot.Plot_2D_PyVista(ROM_model, \n",
    "                Mesh_object, \n",
    "                config, \n",
    "                E = config[\"postprocess\"][\"Default_E\"], \n",
    "                theta = config[\"postprocess\"][\"Default_theta\"], \n",
    "                scalar_field_name = config[\"postprocess\"][\"scalar_field_name\"], \n",
    "                scaling_factor = config[\"postprocess\"][\"scaling_factor\"], \n",
    "                Interactive_parameter = config[\"postprocess\"][\"Interactive_parameter\"],\n",
    "                Plot_mesh = config[\"postprocess\"][\"Plot_mesh\"],\n",
    "                color_map = config[\"postprocess\"][\"colormap\"])"
   ]
  }
 ],
 "metadata": {
  "kernelspec": {
   "display_name": "NeuROM",
   "language": "python",
   "name": "python3"
  },
  "language_info": {
   "codemirror_mode": {
    "name": "ipython",
    "version": 3
   },
   "file_extension": ".py",
   "mimetype": "text/x-python",
   "name": "python",
   "nbconvert_exporter": "python",
   "pygments_lexer": "ipython3",
   "version": "3.12.3"
  }
 },
 "nbformat": 4,
 "nbformat_minor": 2
}
