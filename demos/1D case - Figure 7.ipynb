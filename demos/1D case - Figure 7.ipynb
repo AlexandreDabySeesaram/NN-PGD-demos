{
 "cells": [
  {
   "cell_type": "markdown",
   "metadata": {},
   "source": [
    "# 1D case - Figure 7\n",
    "Mono-parameter 1D problem - Investigation of  the  convergence  of  the  reduced-order model and of the evolution of the size of the reduced-order basis."
   ]
  },
  {
   "cell_type": "markdown",
   "metadata": {},
   "source": [
    "## Libraries import  "
   ]
  },
  {
   "cell_type": "code",
   "execution_count": 6,
   "metadata": {},
   "outputs": [],
   "source": [
    "\n",
    "import sys  \n",
    "import torch\n",
    "import torch.nn as nn\n",
    "from neurom.HiDeNN_PDE import MeshNN, NeuROM, MeshNN_2D, MeshNN_1D\n",
    "import neurom.src.Pre_processing as pre\n",
    "from neurom.src.PDE_Library import Strain, Stress,VonMises_plain_strain\n",
    "from neurom.src.Training import Training_NeuROM_multi_level\n",
    "import neurom.Post.Plots as Pplot\n",
    "import time\n",
    "import os\n",
    "import torch._dynamo as dynamo\n",
    "from importlib import reload  \n",
    "import tomllib\n",
    "import numpy as np\n",
    "import argparse"
   ]
  },
  {
   "cell_type": "markdown",
   "metadata": {},
   "source": [
    "## Load the config file"
   ]
  },
  {
   "cell_type": "code",
   "execution_count": 7,
   "metadata": {},
   "outputs": [],
   "source": [
    "    Configuration_file = 'Configurations/config_1D_ROM_7.toml'\n",
    "\n",
    "    with open(Configuration_file, mode=\"rb\") as file:\n",
    "        config = tomllib.load(file)"
   ]
  },
  {
   "cell_type": "markdown",
   "metadata": {},
   "source": [
    "## Definition of the space domain and mechanical proprieties of the structure\n",
    "\n",
    "The initial material parameters, the geometry, mesh and the boundary conditions are set. "
   ]
  },
  {
   "cell_type": "code",
   "execution_count": 8,
   "metadata": {},
   "outputs": [
    {
     "name": "stdout",
     "output_type": "stream",
     "text": [
      " \n",
      " \n",
      "   _   _            ____   ___  __  __ \n",
      "  | \\ | | ___ _   _|  _ \\ / _ \\|  \\/  |\n",
      "  |  \\| |/ _ \\ | | | |_) | | | | |\\/| |\n",
      "  | |\\  |  __/ |_| |  _ <| |_| | |  | |\n",
      "  |_| \\_|\\___|\\__,_|_| \\_\\ ___/|_|  |_|\n",
      "\n",
      "                  unknown version\n",
      "\n",
      "************ MESH READING COMPLETE ************\n",
      "\n",
      " * Dimension of the problem: 1D\n",
      " * Elements type:            2-node bar\n",
      " * Number of Dofs:           10\n"
     ]
    },
    {
     "name": "stderr",
     "output_type": "stream",
     "text": [
      "fatal: No names found, cannot describe anything.\n"
     ]
    }
   ],
   "source": [
    "\n",
    "# Material parameters definition\n",
    "\n",
    "Mat = pre.Material(             flag_lame = True,                                   # If True should input lmbda and mu instead of E and nu\n",
    "                                coef1     = config[\"material\"][\"E\"],                # Young Modulus\n",
    "                                coef2     = config[\"geometry\"][\"A\"]                 # Section area of the 1D bar\n",
    "                    )\n",
    "\n",
    "\n",
    "# Create mesh object\n",
    "MaxElemSize = pre.ElementSize(\n",
    "                                dimension     = config[\"interpolation\"][\"dimension\"],\n",
    "                                L             = config[\"geometry\"][\"L\"],\n",
    "                                order         = config[\"interpolation\"][\"order\"],\n",
    "                                np            = config[\"interpolation\"][\"np\"],\n",
    "                                MaxElemSize2D = config[\"interpolation\"][\"MaxElemSize2D\"]\n",
    "                            )\n",
    "Excluded = []\n",
    "Mesh_object = pre.Mesh( \n",
    "                                config[\"geometry\"][\"Name\"],                         # Create the mesh object\n",
    "                                MaxElemSize, \n",
    "                                config[\"interpolation\"][\"order\"], \n",
    "                                config[\"interpolation\"][\"dimension\"]\n",
    "                        )\n",
    "\n",
    "Mesh_object.AddBorders(config[\"Borders\"][\"Borders\"])\n",
    "Mesh_object.AddBCs(                                                                 # Include Boundary physical domains infos (BCs+volume)\n",
    "                                config[\"geometry\"][\"Volume_element\"],\n",
    "                                Excluded,\n",
    "                                config[\"DirichletDictionryList\"]\n",
    "                    )                   \n",
    "\n",
    "Mesh_object.MeshGeo()                                                               # Mesh the .geo file if .msh does not exist\n",
    "Mesh_object.ReadMesh()       \n",
    "Mesh_object.AssemblyMatrix() "
   ]
  },
  {
   "cell_type": "markdown",
   "metadata": {},
   "source": [
    "## Parametric study definition\n",
    "\n",
    "The hypercube describing the parametric domain used for the tensor decomposition is set-up here"
   ]
  },
  {
   "cell_type": "code",
   "execution_count": 9,
   "metadata": {},
   "outputs": [],
   "source": [
    "ParameterHypercube = torch.tensor([ [   config[\"parameters\"][\"para_1_min\"],\n",
    "                                        config[\"parameters\"][\"para_1_max\"],\n",
    "                                        config[\"parameters\"][\"N_para_1\"]]])"
   ]
  },
  {
   "cell_type": "markdown",
   "metadata": {},
   "source": [
    "## Initialisation of the surrogate model"
   ]
  },
  {
   "cell_type": "code",
   "execution_count": 10,
   "metadata": {},
   "outputs": [],
   "source": [
    "ROM_model = NeuROM(                                                                 # Build the surrogate (reduced-order) model\n",
    "                    Mesh_object, \n",
    "                    ParameterHypercube, \n",
    "                    config,\n",
    "                    config[\"solver\"][\"n_modes_ini\"],\n",
    "                    config[\"solver\"][\"n_modes_max\"]\n",
    "                    )"
   ]
  },
  {
   "cell_type": "markdown",
   "metadata": {},
   "source": [
    "## Training the model"
   ]
  },
  {
   "cell_type": "code",
   "execution_count": 11,
   "metadata": {},
   "outputs": [
    {
     "name": "stdout",
     "output_type": "stream",
     "text": [
      "* Refinement level: 0\n",
      "\n",
      "**************** START TRAINING ***************\n",
      "\n",
      "epoch 100 loss = -1.54975e-02 error = 7.9874e+01% modes = 1\n",
      "epoch 200 loss = -1.66040e-02 error = 5.2055e+01% modes = 1\n",
      "epoch 300 loss = -1.67649e-02 error = 4.3538e+01% modes = 1\n",
      "epoch 400 loss = -1.67996e-02 error = 4.1134e+01% modes = 2\n",
      "*************** END FIRST PHASE ***************\n",
      "\n",
      "* Training time: 1.383188009262085s\n",
      "* Saving time: 0.0s\n",
      "* Evaluation time: 0.6594750881195068s\n",
      "* Backward time: 0.3603956699371338s\n",
      "* Update time: 0.05436444282531738s\n",
      "* Average epoch time: 0.003293304783957345s\n",
      "************** START SECOND PAHSE *************\n",
      "\n",
      "epoch 5 loss = -1.6809e-02 error = 4.1574e+01%\n",
      "*************** END OF TRAINING ***************\n",
      "\n",
      "* Training time: 1.4941952228546143s\n"
     ]
    },
    {
     "ename": "NameError",
     "evalue": "name 'Mesh_object' is not defined",
     "output_type": "error",
     "traceback": [
      "\u001b[0;31m---------------------------------------------------------------------------\u001b[0m",
      "\u001b[0;31mUnboundLocalError\u001b[0m                         Traceback (most recent call last)",
      "File \u001b[0;32m~/Documents/Code/neurom/neurom/src/Training.py:1918\u001b[0m, in \u001b[0;36mTraining_NeuROM_multi_level\u001b[0;34m(model, config, Mat)\u001b[0m\n\u001b[1;32m   1917\u001b[0m \u001b[38;5;28;01mtry\u001b[39;00m:\n\u001b[0;32m-> 1918\u001b[0m     \u001b[38;5;28;01mreturn\u001b[39;00m model, \u001b[43mMesh_object_fine\u001b[49m\n\u001b[1;32m   1919\u001b[0m \u001b[38;5;28;01mexcept\u001b[39;00m:\n",
      "\u001b[0;31mUnboundLocalError\u001b[0m: cannot access local variable 'Mesh_object_fine' where it is not associated with a value",
      "\nDuring handling of the above exception, another exception occurred:\n",
      "\u001b[0;31mNameError\u001b[0m                                 Traceback (most recent call last)",
      "Cell \u001b[0;32mIn[11], line 11\u001b[0m\n\u001b[1;32m      4\u001b[0m ROM_model\u001b[38;5;241m.\u001b[39mTrainingParameters(   \n\u001b[1;32m      5\u001b[0m                                 loss_decrease_c \u001b[38;5;241m=\u001b[39m config[\u001b[38;5;124m\"\u001b[39m\u001b[38;5;124mtraining\u001b[39m\u001b[38;5;124m\"\u001b[39m][\u001b[38;5;124m\"\u001b[39m\u001b[38;5;124mloss_decrease_c\u001b[39m\u001b[38;5;124m\"\u001b[39m], \n\u001b[1;32m      6\u001b[0m                                 Max_epochs \u001b[38;5;241m=\u001b[39m config[\u001b[38;5;124m\"\u001b[39m\u001b[38;5;124mtraining\u001b[39m\u001b[38;5;124m\"\u001b[39m][\u001b[38;5;124m\"\u001b[39m\u001b[38;5;124mn_epochs\u001b[39m\u001b[38;5;124m\"\u001b[39m], \n\u001b[1;32m      7\u001b[0m                                 learning_rate \u001b[38;5;241m=\u001b[39m config[\u001b[38;5;124m\"\u001b[39m\u001b[38;5;124mtraining\u001b[39m\u001b[38;5;124m\"\u001b[39m][\u001b[38;5;124m\"\u001b[39m\u001b[38;5;124mlearning_rate\u001b[39m\u001b[38;5;124m\"\u001b[39m]\n\u001b[1;32m      8\u001b[0m                             )\n\u001b[1;32m     10\u001b[0m ROM_model\u001b[38;5;241m.\u001b[39mtrain()                                                                   \u001b[38;5;66;03m# Put the model in training mode\u001b[39;00m\n\u001b[0;32m---> 11\u001b[0m ROM_model, Mesh_object \u001b[38;5;241m=\u001b[39m \u001b[43mTraining_NeuROM_multi_level\u001b[49m\u001b[43m(\u001b[49m\u001b[43mROM_model\u001b[49m\u001b[43m,\u001b[49m\u001b[43mconfig\u001b[49m\u001b[43m,\u001b[49m\u001b[43m \u001b[49m\u001b[43mMat\u001b[49m\u001b[43m)\u001b[49m         \n",
      "File \u001b[0;32m~/Documents/Code/neurom/neurom/src/Training.py:1920\u001b[0m, in \u001b[0;36mTraining_NeuROM_multi_level\u001b[0;34m(model, config, Mat)\u001b[0m\n\u001b[1;32m   1918\u001b[0m     \u001b[38;5;28;01mreturn\u001b[39;00m model, Mesh_object_fine\n\u001b[1;32m   1919\u001b[0m \u001b[38;5;28;01mexcept\u001b[39;00m:\n\u001b[0;32m-> 1920\u001b[0m     \u001b[38;5;28;01mreturn\u001b[39;00m model, \u001b[43mMesh_object\u001b[49m\n",
      "\u001b[0;31mNameError\u001b[0m: name 'Mesh_object' is not defined"
     ]
    }
   ],
   "source": [
    "ROM_model.Freeze_Mesh()                                                             # Set space mesh coordinates as untrainable\n",
    "ROM_model.Freeze_MeshPara()                                                         # Set parameters mesh coordinates as untrainable\n",
    "\n",
    "ROM_model.TrainingParameters(   \n",
    "                                loss_decrease_c = config[\"training\"][\"loss_decrease_c\"], \n",
    "                                Max_epochs = config[\"training\"][\"n_epochs\"], \n",
    "                                learning_rate = config[\"training\"][\"learning_rate\"]\n",
    "                            )\n",
    "\n",
    "ROM_model.train()                                                                   # Put the model in training mode\n",
    "ROM_model, Mesh_object = Training_NeuROM_multi_level(ROM_model,config, Mat)         \n"
   ]
  },
  {
   "cell_type": "markdown",
   "metadata": {},
   "source": [
    "## Plotting area\n",
    "\n",
    "Reproducing figure 7, a-b-c"
   ]
  },
  {
   "cell_type": "code",
   "execution_count": null,
   "metadata": {},
   "outputs": [],
   "source": [
    "tikz = False\n",
    "\n",
    "import matplotlib.pyplot as plt\n",
    "from matplotlib.ticker import MaxNLocator\n",
    "\n",
    "\n",
    "Modes_flag = ROM_model.training_recap[\"Mode_vect\"]\n",
    "error = ROM_model.training_recap[\"Loss_vect\"]\n",
    "decay = ROM_model.training_recap[\"Loss_decrease_vect\"]\n",
    "threshold = config[\"training\"][\"loss_decrease_c\"]\n",
    "\n",
    "name = 'Fig10a'\n",
    "\n",
    "\n",
    "# plot Fig 10a\n",
    "\n",
    "fig = plt.figure()\n",
    "ax = fig.add_subplot(111)\n",
    "\n",
    "## First curve\n",
    "ax.invert_yaxis()\n",
    "g1 = ax.semilogy(-torch.tensor(error), color='#d95319ff')\n",
    "ax.set_ylabel(r'$ - J\\left(\\underline{u}\\left(\\underline{x}\\right)\\right)$',color='#d95319ff')\n",
    "ax.tick_params(axis='y', colors='#d95319ff', which='both')\n",
    "ax.xaxis.set_major_locator(MaxNLocator(integer=True))\n",
    "ax.set_xlabel(r'Epochs')\n",
    "\n",
    "## Second curve\n",
    "ax2 = ax.twinx()\n",
    "g2 = ax2.plot(Modes_flag, color='#247ab5ff')\n",
    "ax2.set_ylabel(r'$m$',color='#247ab5ff')\n",
    "ax2.tick_params(axis='y', colors='#247ab5ff')\n",
    "ax2.yaxis.set_major_locator(MaxNLocator(integer=True))\n",
    "\n",
    "if tikz:\n",
    "    import tikzplotlib\n",
    "    tikzplotlib.save('Results/'+name+'_zoom.tex')\n",
    "plt.savefig('Results/'+name+'_zoom.pdf', transparent=True, bbox_inches = \"tight\")\n",
    "\n",
    "plt.show() \n",
    "plt.clf() \n",
    "\n",
    "\n",
    "\n",
    "\n",
    "\n",
    "name = 'Fig10b'\n",
    "\n",
    "# pre processing for padding and zooming on epochs after rough training during the first epochs\n",
    "Zoom_depth = np.min(np.where(np.array(Modes_flag) == np.array(Modes_flag)[0]+1))\n",
    "Zoom_start_index = int(np.floor(0.9*Zoom_depth))\n",
    "second_stages_epochs = len(error) - len(Modes_flag)\n",
    "Modes_flag.extend([Modes_flag[-1]]*second_stages_epochs)\n",
    "x_indexes = np.arange(len(Modes_flag[Zoom_start_index:]))+Zoom_start_index\n",
    "\n",
    "# plot Fig 15b\n",
    "\n",
    "fig = plt.figure()\n",
    "ax = fig.add_subplot(111)\n",
    "\n",
    "## First curve\n",
    "ax.invert_yaxis()\n",
    "g1 = ax.semilogy(x_indexes,-torch.tensor(error[Zoom_start_index:]), color='#d95319ff')\n",
    "ax.set_ylabel(r'$ - J\\left(\\underline{u}\\left(\\underline{x}\\right)\\right)$',color='#d95319ff')\n",
    "ax.tick_params(axis='y', colors='#d95319ff', which='both')\n",
    "ax.xaxis.set_major_locator(MaxNLocator(integer=True))\n",
    "ax.set_xlabel(r'Epochs')\n",
    "\n",
    "## Second curve\n",
    "ax2 = ax.twinx()\n",
    "g2 = ax2.plot(x_indexes,Modes_flag[Zoom_start_index:], color='#247ab5ff')\n",
    "ax2.set_ylabel(r'$m$',color='#247ab5ff')\n",
    "ax2.tick_params(axis='y', colors='#247ab5ff')\n",
    "ax2.yaxis.set_major_locator(MaxNLocator(integer=True))\n",
    "\n",
    "if tikz:\n",
    "    import tikzplotlib\n",
    "    tikzplotlib.save('Results/'+name+'_zoom.tex')\n",
    "plt.savefig('Results/'+name+'_zoom.pdf', transparent=True, bbox_inches = \"tight\")\n",
    "\n",
    "plt.show() \n",
    "plt.clf() \n",
    "\n",
    "\n",
    "name = 'Fig10c'\n",
    "\n",
    "# plot Fig 15c\n",
    "\n",
    "ax = plt.gca()\n",
    "ax.semilogy(decay,color='#d95319ff')\n",
    "ax.tick_params(axis='y', colors='#d95319ff')\n",
    "ax.set_ylabel(r'd log($J\\left(\\underline{u}\\left(\\underline{x}\\right)\\right)$)',color='#d95319ff')\n",
    "plt.axhline(threshold,color = 'k')\n",
    "ax.xaxis.set_major_locator(MaxNLocator(integer=True))\n",
    "\n",
    "\n",
    "# plt.ylim((0.01,20))\n",
    "ax2 = plt.gca().twinx()\n",
    "ax2.plot(Modes_flag,color='#247ab5ff')\n",
    "ax2.set_ylabel(r'$m$',color='#247ab5ff')\n",
    "ax2.tick_params(axis='y', colors='#247ab5ff')\n",
    "ax2.yaxis.set_major_locator(MaxNLocator(integer=True))\n",
    "\n",
    "if tikz:\n",
    "    import tikzplotlib\n",
    "    tikzplotlib.save('Results/'+name+'.tex')\n",
    "plt.savefig('Results/'+name+'.pdf', transparent=True, bbox_inches = \"tight\")\n",
    "plt.show() \n",
    "\n",
    "plt.clf()"
   ]
  }
 ],
 "metadata": {
  "kernelspec": {
   "display_name": "NeuROM",
   "language": "python",
   "name": "python3"
  },
  "language_info": {
   "codemirror_mode": {
    "name": "ipython",
    "version": 3
   },
   "file_extension": ".py",
   "mimetype": "text/x-python",
   "name": "python",
   "nbconvert_exporter": "python",
   "pygments_lexer": "ipython3",
   "version": "3.12.3"
  }
 },
 "nbformat": 4,
 "nbformat_minor": 2
}
