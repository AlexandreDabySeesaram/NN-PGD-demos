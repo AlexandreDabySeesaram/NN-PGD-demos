{
 "cells": [
  {
   "cell_type": "markdown",
   "metadata": {},
   "source": [
    "# 1D case - Figure 7\n",
    "Mono-parameter 1D problem - Investigation of  the  convergence  of  the  reduced-order model and of the evolution of the size of the reduced-order basis."
   ]
  },
  {
   "cell_type": "markdown",
   "metadata": {},
   "source": [
    "## Libraries import  "
   ]
  },
  {
   "cell_type": "code",
   "execution_count": null,
   "metadata": {},
   "outputs": [],
   "source": [
    "\n",
    "import sys  \n",
    "import torch\n",
    "import torch.nn as nn\n",
    "from neurom.HiDeNN_PDE import MeshNN, NeuROM, MeshNN_2D, MeshNN_1D\n",
    "import neurom.src.Pre_processing as pre\n",
    "from neurom.src.PDE_Library import Strain, Stress,VonMises_plain_strain\n",
    "from neurom.src.Training import Training_NeuROM_multi_level\n",
    "import neurom.Post.Plots as Pplot\n",
    "import time\n",
    "import os\n",
    "import torch._dynamo as dynamo\n",
    "from importlib import reload  \n",
    "import tomllib\n",
    "import numpy as np\n",
    "import argparse"
   ]
  },
  {
   "cell_type": "markdown",
   "metadata": {},
   "source": [
    "## Load the config file"
   ]
  },
  {
   "cell_type": "code",
   "execution_count": null,
   "metadata": {},
   "outputs": [],
   "source": [
    "    Configuration_file = 'Configurations/config_1D_ROM_7.toml'\n",
    "\n",
    "    with open(Configuration_file, mode=\"rb\") as file:\n",
    "        config = tomllib.load(file)"
   ]
  },
  {
   "cell_type": "markdown",
   "metadata": {},
   "source": [
    "## Definition of the space domain and mechanical proprieties of the structure\n",
    "\n",
    "The initial material parameters, the geometry, mesh and the boundary conditions are set. "
   ]
  },
  {
   "cell_type": "code",
   "execution_count": null,
   "metadata": {},
   "outputs": [],
   "source": [
    "\n",
    "# Material parameters definition\n",
    "\n",
    "Mat = pre.Material(             flag_lame = False,                                  # If True should input lmbda and mu instead of E and nu\n",
    "                                coef1     = config[\"material\"][\"E\"],                # Young Modulus\n",
    "                                coef2     = config[\"material\"][\"nu\"]                # Poisson's ratio\n",
    "                )\n",
    "\n",
    "\n",
    "# Create mesh object\n",
    "MaxElemSize = pre.ElementSize(\n",
    "                                dimension     = config[\"interpolation\"][\"dimension\"],\n",
    "                                L             = config[\"geometry\"][\"L\"],\n",
    "                                order         = config[\"interpolation\"][\"order\"],\n",
    "                                np            = config[\"interpolation\"][\"np\"],\n",
    "                                MaxElemSize2D = config[\"interpolation\"][\"MaxElemSize2D\"]\n",
    "                            )\n",
    "Excluded = []\n",
    "Mesh_object = pre.Mesh( \n",
    "                                config[\"geometry\"][\"Name\"],                         # Create the mesh object\n",
    "                                MaxElemSize, \n",
    "                                config[\"interpolation\"][\"order\"], \n",
    "                                config[\"interpolation\"][\"dimension\"]\n",
    "                        )\n",
    "\n",
    "Mesh_object.AddBorders(config[\"Borders\"][\"Borders\"])\n",
    "Mesh_object.AddBCs(                                                                 # Include Boundary physical domains infos (BCs+volume)\n",
    "                                config[\"geometry\"][\"Volume_element\"],\n",
    "                                Excluded,\n",
    "                                config[\"DirichletDictionryList\"]\n",
    "                    )                   \n",
    "\n",
    "Mesh_object.MeshGeo()                                                               # Mesh the .geo file if .msh does not exist\n",
    "Mesh_object.ReadMesh()       \n",
    "Mesh_object.ExportMeshVtk()"
   ]
  },
  {
   "cell_type": "markdown",
   "metadata": {},
   "source": [
    "## Parametric study definition\n",
    "\n",
    "The hypercube describing the parametric domain used for the tensor decomposition is set-up here"
   ]
  },
  {
   "cell_type": "code",
   "execution_count": null,
   "metadata": {},
   "outputs": [],
   "source": [
    "ParameterHypercube = torch.tensor([ [   config[\"parameters\"][\"para_1_min\"],\n",
    "                                        config[\"parameters\"][\"para_1_max\"],\n",
    "                                        config[\"parameters\"][\"N_para_1\"]]])"
   ]
  },
  {
   "cell_type": "markdown",
   "metadata": {},
   "source": [
    "## Initialisation of the surrogate model"
   ]
  },
  {
   "cell_type": "code",
   "execution_count": null,
   "metadata": {},
   "outputs": [],
   "source": [
    "ROM_model = NeuROM(                                                                 # Build the surrogate (reduced-order) model\n",
    "                    Mesh_object, \n",
    "                    ParameterHypercube, \n",
    "                    config,\n",
    "                    config[\"solver\"][\"n_modes_ini\"],\n",
    "                    config[\"solver\"][\"n_modes_max\"]\n",
    "                    )"
   ]
  },
  {
   "cell_type": "markdown",
   "metadata": {},
   "source": [
    "## Training the model"
   ]
  },
  {
   "cell_type": "code",
   "execution_count": null,
   "metadata": {},
   "outputs": [],
   "source": [
    "ROM_model.Freeze_Mesh()                                                             # Set space mesh coordinates as untrainable\n",
    "ROM_model.Freeze_MeshPara()                                                         # Set parameters mesh coordinates as untrainable\n",
    "\n",
    "ROM_model.TrainingParameters(   \n",
    "                                loss_decrease_c = config[\"training\"][\"loss_decrease_c\"], \n",
    "                                Max_epochs = config[\"training\"][\"n_epochs\"], \n",
    "                                learning_rate = config[\"training\"][\"learning_rate\"]\n",
    "                            )\n",
    "\n",
    "ROM_model.train()                                                                   # Put the model in training mode\n",
    "ROM_model, Mesh_object = Training_NeuROM_multi_level(ROM_model,config, Mat)         \n"
   ]
  },
  {
   "cell_type": "markdown",
   "metadata": {},
   "source": [
    "## Plotting area\n",
    "\n",
    "Reproducing figure 7, a-b-c"
   ]
  },
  {
   "cell_type": "code",
   "execution_count": null,
   "metadata": {},
   "outputs": [],
   "source": [
    "tikz = False\n",
    "\n",
    "import matplotlib.pyplot as plt\n",
    "from matplotlib.ticker import MaxNLocator\n",
    "\n",
    "\n",
    "Modes_flag = ROM_model.training_recap[\"Mode_vect\"]\n",
    "error = ROM_model.training_recap[\"Loss_vect\"]\n",
    "decay = ROM_model.training_recap[\"Loss_decrease_vect\"]\n",
    "threshold = config[\"training\"][\"loss_decrease_c\"]\n",
    "\n",
    "name = 'Fig10a'\n",
    "\n",
    "\n",
    "# plot Fig 10a\n",
    "\n",
    "fig = plt.figure()\n",
    "ax = fig.add_subplot(111)\n",
    "\n",
    "## First curve\n",
    "ax.invert_yaxis()\n",
    "g1 = ax.semilogy(-torch.tensor(error), color='#d95319ff')\n",
    "ax.set_ylabel(r'$ - J\\left(\\underline{u}\\left(\\underline{x}\\right)\\right)$',color='#d95319ff')\n",
    "ax.tick_params(axis='y', colors='#d95319ff', which='both')\n",
    "ax.xaxis.set_major_locator(MaxNLocator(integer=True))\n",
    "ax.set_xlabel(r'Epochs')\n",
    "\n",
    "## Second curve\n",
    "ax2 = ax.twinx()\n",
    "g2 = ax2.plot(Modes_flag, color='#247ab5ff')\n",
    "ax2.set_ylabel(r'$m$',color='#247ab5ff')\n",
    "ax2.tick_params(axis='y', colors='#247ab5ff')\n",
    "ax2.yaxis.set_major_locator(MaxNLocator(integer=True))\n",
    "\n",
    "if tikz:\n",
    "    import tikzplotlib\n",
    "    tikzplotlib.save('Results/'+name+'_zoom.tex')\n",
    "plt.savefig('Results/'+name+'_zoom.pdf', transparent=True, bbox_inches = \"tight\")\n",
    "\n",
    "plt.show() \n",
    "plt.clf() \n",
    "\n",
    "\n",
    "\n",
    "\n",
    "\n",
    "name = 'Fig10b'\n",
    "\n",
    "# pre processing for padding and zooming on epochs after rough training during the first epochs\n",
    "Zoom_depth = np.min(np.where(np.array(Modes_flag) == np.array(Modes_flag)[0]+1))\n",
    "Zoom_start_index = int(np.floor(0.9*Zoom_depth))\n",
    "second_stages_epochs = len(error) - len(Modes_flag)\n",
    "Modes_flag.extend([Modes_flag[-1]]*second_stages_epochs)\n",
    "x_indexes = np.arange(len(Modes_flag[Zoom_start_index:]))+Zoom_start_index\n",
    "\n",
    "# plot Fig 15b\n",
    "\n",
    "fig = plt.figure()\n",
    "ax = fig.add_subplot(111)\n",
    "\n",
    "## First curve\n",
    "ax.invert_yaxis()\n",
    "g1 = ax.semilogy(x_indexes,-torch.tensor(error[Zoom_start_index:]), color='#d95319ff')\n",
    "ax.set_ylabel(r'$ - J\\left(\\underline{u}\\left(\\underline{x}\\right)\\right)$',color='#d95319ff')\n",
    "ax.tick_params(axis='y', colors='#d95319ff', which='both')\n",
    "ax.xaxis.set_major_locator(MaxNLocator(integer=True))\n",
    "ax.set_xlabel(r'Epochs')\n",
    "\n",
    "## Second curve\n",
    "ax2 = ax.twinx()\n",
    "g2 = ax2.plot(x_indexes,Modes_flag[Zoom_start_index:], color='#247ab5ff')\n",
    "ax2.set_ylabel(r'$m$',color='#247ab5ff')\n",
    "ax2.tick_params(axis='y', colors='#247ab5ff')\n",
    "ax2.yaxis.set_major_locator(MaxNLocator(integer=True))\n",
    "\n",
    "if tikz:\n",
    "    import tikzplotlib\n",
    "    tikzplotlib.save('Results/'+name+'_zoom.tex')\n",
    "plt.savefig('Results/'+name+'_zoom.pdf', transparent=True, bbox_inches = \"tight\")\n",
    "\n",
    "plt.show() \n",
    "plt.clf() \n",
    "\n",
    "\n",
    "name = 'Fig10c'\n",
    "\n",
    "# plot Fig 15c\n",
    "\n",
    "ax = plt.gca()\n",
    "ax.semilogy(decay,color='#d95319ff')\n",
    "ax.tick_params(axis='y', colors='#d95319ff')\n",
    "ax.set_ylabel(r'd log($J\\left(\\underline{u}\\left(\\underline{x}\\right)\\right)$)',color='#d95319ff')\n",
    "plt.axhline(threshold,color = 'k')\n",
    "ax.xaxis.set_major_locator(MaxNLocator(integer=True))\n",
    "\n",
    "\n",
    "# plt.ylim((0.01,20))\n",
    "ax2 = plt.gca().twinx()\n",
    "ax2.plot(Modes_flag,color='#247ab5ff')\n",
    "ax2.set_ylabel(r'$m$',color='#247ab5ff')\n",
    "ax2.tick_params(axis='y', colors='#247ab5ff')\n",
    "ax2.yaxis.set_major_locator(MaxNLocator(integer=True))\n",
    "\n",
    "if tikz:\n",
    "    import tikzplotlib\n",
    "    tikzplotlib.save('Results/'+name+'.tex')\n",
    "plt.savefig('Results/'+name+'.pdf', transparent=True, bbox_inches = \"tight\")\n",
    "plt.show() \n",
    "\n",
    "plt.clf()"
   ]
  }
 ],
 "metadata": {
  "kernelspec": {
   "display_name": "NeuROM",
   "language": "python",
   "name": "python3"
  },
  "language_info": {
   "codemirror_mode": {
    "name": "ipython",
    "version": 3
   },
   "file_extension": ".py",
   "mimetype": "text/x-python",
   "name": "python",
   "nbconvert_exporter": "python",
   "pygments_lexer": "ipython3",
   "version": "3.12.3"
  }
 },
 "nbformat": 4,
 "nbformat_minor": 2
}
