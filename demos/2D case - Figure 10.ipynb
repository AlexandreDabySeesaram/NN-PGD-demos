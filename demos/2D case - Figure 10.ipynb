{
 "cells": [
  {
   "cell_type": "markdown",
   "metadata": {},
   "source": [
    "# 2D case - Figure 10\n",
    "Two-parameter 2D problem - Investigation of  the  convergence  of  the  reduced-order model and of the evolution of the size of the reduced-order basis."
   ]
  },
  {
   "cell_type": "markdown",
   "metadata": {},
   "source": [
    "## Libraries import  "
   ]
  },
  {
   "cell_type": "code",
   "execution_count": 1,
   "metadata": {},
   "outputs": [
    {
     "name": "stdout",
     "output_type": "stream",
     "text": [
      "* WARNING: could not load tikzplotlib\n"
     ]
    }
   ],
   "source": [
    "\n",
    "import sys  \n",
    "import torch\n",
    "import torch.nn as nn\n",
    "from neurom.HiDeNN_PDE import MeshNN, NeuROM, MeshNN_2D, MeshNN_1D\n",
    "import neurom.src.Pre_processing as pre\n",
    "from neurom.src.PDE_Library import Strain, Stress,VonMises_plain_strain\n",
    "from neurom.src.Training import Training_NeuROM_multi_level\n",
    "import neurom.Post.Plots as Pplot\n",
    "import time\n",
    "import os\n",
    "import torch._dynamo as dynamo\n",
    "from importlib import reload  \n",
    "import tomllib\n",
    "import numpy as np\n",
    "import argparse"
   ]
  },
  {
   "cell_type": "markdown",
   "metadata": {},
   "source": [
    "## Load the config file"
   ]
  },
  {
   "cell_type": "code",
   "execution_count": 2,
   "metadata": {},
   "outputs": [],
   "source": [
    "    Configuration_file = 'Configurations/config_2D_ROM.toml'\n",
    "\n",
    "    with open(Configuration_file, mode=\"rb\") as file:\n",
    "        config = tomllib.load(file)"
   ]
  },
  {
   "cell_type": "markdown",
   "metadata": {},
   "source": [
    "## Definition of the space domain and mechanical proprieties of the structure\n",
    "\n",
    "The initial Material parameters, the geometry, mesh and the boundary conditions are set. "
   ]
  },
  {
   "cell_type": "code",
   "execution_count": 3,
   "metadata": {},
   "outputs": [
    {
     "name": "stderr",
     "output_type": "stream",
     "text": [
      "fatal: No names found, cannot describe anything.\n"
     ]
    },
    {
     "name": "stdout",
     "output_type": "stream",
     "text": [
      " \n",
      " \n",
      "   _   _            ____   ___  __  __ \n",
      "  | \\ | | ___ _   _|  _ \\ / _ \\|  \\/  |\n",
      "  |  \\| |/ _ \\ | | | |_) | | | | |\\/| |\n",
      "  | |\\  |  __/ |_| |  _ <| |_| | |  | |\n",
      "  |_| \\_|\\___|\\__,_|_| \\_\\ ___/|_|  |_|\n",
      "\n",
      "                  unknown version\n",
      "*************** Mesh Geometry  ****************\n",
      "\n",
      "Info    : Running '/Users/daby/anaconda3/envs/neurom-env/bin/gmsh Geometries/Hole_3.geo -2 -order 1 -o Geometries/Hole_3_order_1_2.msh -clmax 2' [Gmsh 4.13.1, 1 node, max. 1 thread]\n",
      "Info    : Started on Mon Sep 23 15:13:53 2024\n",
      "Info    : Reading 'Geometries/Hole_3.geo'...\n",
      "Info    : Done reading 'Geometries/Hole_3.geo'\n",
      "Info    : Meshing 1D...\n",
      "Info    : [  0%] Meshing curve 1 (Line)\n",
      "Info    : [ 10%] Meshing curve 2 (Line)\n",
      "Info    : [ 20%] Meshing curve 3 (Line)\n",
      "Info    : [ 20%] Meshing curve 4 (Line)\n",
      "Info    : [ 30%] Meshing curve 5 (Circle)\n",
      "Info    : [ 40%] Meshing curve 6 (Circle)\n",
      "Info    : [ 40%] Meshing curve 7 (Circle)\n",
      "Info    : [ 50%] Meshing curve 8 (Circle)\n",
      "Info    : [ 60%] Meshing curve 50 (Circle)\n",
      "Info    : [ 60%] Meshing curve 51 (Circle)\n",
      "Info    : [ 70%] Meshing curve 60 (Circle)\n",
      "Info    : [ 70%] Meshing curve 61 (Circle)\n",
      "Info    : [ 80%] Meshing curve 70 (Circle)\n",
      "Info    : [ 90%] Meshing curve 71 (Circle)\n",
      "Info    : [ 90%] Meshing curve 80 (Circle)\n",
      "Info    : [100%] Meshing curve 81 (Circle)\n",
      "Info    : Done meshing 1D (Wall 0.000677958s, CPU 0.000561s)\n",
      "Info    : Meshing 2D...\n",
      "Info    : Meshing surface 1 (Plane, Frontal-Delaunay)\n",
      "Info    : Done meshing 2D (Wall 0.001918s, CPU 0.001602s)\n",
      "Info    : 115 nodes 247 elements\n",
      "Info    : Writing 'Geometries/Hole_3_order_1_2.msh'...\n",
      "Info    : Done writing 'Geometries/Hole_3_order_1_2.msh'\n",
      "Info    : Stopped on Mon Sep 23 15:13:53 2024 (From start: Wall 0.00679679s, CPU 0.089164s)\n",
      "\n",
      "************ MESH READING COMPLETE ************\n",
      "\n",
      " * Dimension of the problem: 2D\n",
      " * Elements type:            t3: 3-node triangle\n",
      " * Number of Dofs:           224\n",
      "\n"
     ]
    }
   ],
   "source": [
    "\n",
    "# Material parameters definition\n",
    "\n",
    "Mat = pre.Material(             flag_lame = False,                                  # If True should input lmbda and mu instead of E and nu\n",
    "                                coef1     = config[\"material\"][\"E\"],                # Young Modulus\n",
    "                                coef2     = config[\"material\"][\"nu\"]                # Poisson's ratio\n",
    "                )\n",
    "\n",
    "\n",
    "# Create mesh object\n",
    "MaxElemSize = pre.ElementSize(\n",
    "                                dimension     = config[\"interpolation\"][\"dimension\"],\n",
    "                                L             = config[\"geometry\"][\"L\"],\n",
    "                                order         = config[\"interpolation\"][\"order\"],\n",
    "                                np            = config[\"interpolation\"][\"np\"],\n",
    "                                MaxElemSize2D = config[\"interpolation\"][\"MaxElemSize2D\"]\n",
    "                            )\n",
    "Excluded = []\n",
    "Mesh_object = pre.Mesh( \n",
    "                                config[\"geometry\"][\"Name\"],                         # Create the mesh object\n",
    "                                MaxElemSize, \n",
    "                                config[\"interpolation\"][\"order\"], \n",
    "                                config[\"interpolation\"][\"dimension\"]\n",
    "                        )\n",
    "\n",
    "Mesh_object.AddBorders(config[\"Borders\"][\"Borders\"])\n",
    "Mesh_object.AddBCs(                                                                 # Include Boundary physical domains infos (BCs+volume)\n",
    "                                config[\"geometry\"][\"Volume_element\"],\n",
    "                                Excluded,\n",
    "                                config[\"DirichletDictionryList\"]\n",
    "                    )                   \n",
    "\n",
    "Mesh_object.MeshGeo()                                                               # Mesh the .geo file if .msh does not exist\n",
    "Mesh_object.ReadMesh()       \n",
    "Mesh_object.ExportMeshVtk()"
   ]
  },
  {
   "cell_type": "markdown",
   "metadata": {},
   "source": [
    "## Parametric study definition\n",
    "\n",
    "The hypercube describing the parametric domain used for the tensor decomposition is set-up here"
   ]
  },
  {
   "cell_type": "code",
   "execution_count": 4,
   "metadata": {},
   "outputs": [],
   "source": [
    "ParameterHypercube = torch.tensor([ [   config[\"parameters\"][\"para_1_min\"],\n",
    "                                        config[\"parameters\"][\"para_1_max\"],\n",
    "                                        config[\"parameters\"][\"N_para_1\"]],\n",
    "                                    [   config[\"parameters\"][\"para_2_min\"],\n",
    "                                        config[\"parameters\"][\"para_2_max\"],\n",
    "                                        config[\"parameters\"][\"N_para_2\"]]])"
   ]
  },
  {
   "cell_type": "markdown",
   "metadata": {},
   "source": [
    "## Initialisation of the surrogate model"
   ]
  },
  {
   "cell_type": "code",
   "execution_count": 5,
   "metadata": {},
   "outputs": [],
   "source": [
    "ROM_model = NeuROM(                                                                 # Build the surrogate (reduced-order) model\n",
    "                    Mesh_object, \n",
    "                    ParameterHypercube, \n",
    "                    config,\n",
    "                    config[\"solver\"][\"n_modes_ini\"],\n",
    "                    config[\"solver\"][\"n_modes_max\"]\n",
    "                    )"
   ]
  },
  {
   "cell_type": "markdown",
   "metadata": {},
   "source": [
    "## Training the model"
   ]
  },
  {
   "cell_type": "code",
   "execution_count": 6,
   "metadata": {},
   "outputs": [
    {
     "ename": "NameError",
     "evalue": "name 'Training_NeuROM_multi_level' is not defined",
     "output_type": "error",
     "traceback": [
      "\u001b[0;31m---------------------------------------------------------------------------\u001b[0m",
      "\u001b[0;31mNameError\u001b[0m                                 Traceback (most recent call last)",
      "Cell \u001b[0;32mIn[6], line 11\u001b[0m\n\u001b[1;32m      4\u001b[0m ROM_model\u001b[38;5;241m.\u001b[39mTrainingParameters(   \n\u001b[1;32m      5\u001b[0m                                 loss_decrease_c \u001b[38;5;241m=\u001b[39m config[\u001b[38;5;124m\"\u001b[39m\u001b[38;5;124mtraining\u001b[39m\u001b[38;5;124m\"\u001b[39m][\u001b[38;5;124m\"\u001b[39m\u001b[38;5;124mloss_decrease_c\u001b[39m\u001b[38;5;124m\"\u001b[39m], \n\u001b[1;32m      6\u001b[0m                                 Max_epochs \u001b[38;5;241m=\u001b[39m config[\u001b[38;5;124m\"\u001b[39m\u001b[38;5;124mtraining\u001b[39m\u001b[38;5;124m\"\u001b[39m][\u001b[38;5;124m\"\u001b[39m\u001b[38;5;124mn_epochs\u001b[39m\u001b[38;5;124m\"\u001b[39m], \n\u001b[1;32m      7\u001b[0m                                 learning_rate \u001b[38;5;241m=\u001b[39m config[\u001b[38;5;124m\"\u001b[39m\u001b[38;5;124mtraining\u001b[39m\u001b[38;5;124m\"\u001b[39m][\u001b[38;5;124m\"\u001b[39m\u001b[38;5;124mlearning_rate\u001b[39m\u001b[38;5;124m\"\u001b[39m]\n\u001b[1;32m      8\u001b[0m                             )\n\u001b[1;32m     10\u001b[0m ROM_model\u001b[38;5;241m.\u001b[39mtrain()                                                                   \u001b[38;5;66;03m# Put the model in training mode\u001b[39;00m\n\u001b[0;32m---> 11\u001b[0m ROM_model, Mesh_object \u001b[38;5;241m=\u001b[39m \u001b[43mTraining_NeuROM_multi_level\u001b[49m(ROM_model,config, Mat)         \n",
      "\u001b[0;31mNameError\u001b[0m: name 'Training_NeuROM_multi_level' is not defined"
     ]
    }
   ],
   "source": [
    "ROM_model.Freeze_Mesh()                                                             # Set space mesh coordinates as untrainable\n",
    "ROM_model.Freeze_MeshPara()                                                         # Set parameters mesh coordinates as untrainable\n",
    "\n",
    "ROM_model.TrainingParameters(   \n",
    "                                loss_decrease_c = config[\"training\"][\"loss_decrease_c\"], \n",
    "                                Max_epochs = config[\"training\"][\"n_epochs\"], \n",
    "                                learning_rate = config[\"training\"][\"learning_rate\"]\n",
    "                            )\n",
    "\n",
    "ROM_model.train()                                                                   # Put the model in training mode\n",
    "ROM_model, Mesh_object = Training_NeuROM_multi_level(ROM_model,config, Mat)         \n"
   ]
  },
  {
   "cell_type": "markdown",
   "metadata": {},
   "source": [
    "## Plotting area\n",
    "\n",
    "Reproducing figure 10"
   ]
  },
  {
   "cell_type": "code",
   "execution_count": null,
   "metadata": {},
   "outputs": [],
   "source": []
  }
 ],
 "metadata": {
  "kernelspec": {
   "display_name": "NeuROM",
   "language": "python",
   "name": "python3"
  },
  "language_info": {
   "codemirror_mode": {
    "name": "ipython",
    "version": 3
   },
   "file_extension": ".py",
   "mimetype": "text/x-python",
   "name": "python",
   "nbconvert_exporter": "python",
   "pygments_lexer": "ipython3",
   "version": "3.12.3"
  }
 },
 "nbformat": 4,
 "nbformat_minor": 2
}
